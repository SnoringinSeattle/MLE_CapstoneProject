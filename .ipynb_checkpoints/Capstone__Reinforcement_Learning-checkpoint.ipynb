{
 "cells": [
  {
   "cell_type": "markdown",
   "metadata": {},
   "source": [
    "# Reinforcement Learning: Implementing and Comparing three Algorithms on one of the Atari games of my youth "
   ]
  },
  {
   "cell_type": "markdown",
   "metadata": {},
   "source": [
    "## Why Reinforcement Learning As My Capstone?\n",
    "\n",
    "### Motivation\n",
    "\n",
    "Having studied Statistics back in the days (keywords small samples, bootstrapping), I have a background in supervised learning mostly, a bit also unsupervised, and I've been applying these techniques to hands-on business use cases for 10 years now.\n",
    "\n",
    "When I applied for the machine learning engineer nanodegree, I wanted to deepen my knowledge in areas known to me, and also discover new areas.\n",
    "\n",
    "Both objectives were met during the course. The latter came into play with the Smartcab task, and I was struck. This was new. It combined two areas where I see a steep learning curve for me as well as a lot of interesting applications in business life:\n",
    "\n",
    "- First, Artifical Neural Nets as the main computing block of learning. During my studies, networks were not as much on the screen as today. During this project, I will thus need to dive into this topic and gain insights which will drive my interest and career onwards. I see networks as a generic computing block, helpful in many areas of prediction.\n",
    "\n",
    "- Second, Reinforcement Learning. Markov Decision Processes are just a lot of fun and a real challenge for my greenhorn brain. Still, there are components of supervised learning and statistics in general, which I can apply hereby. Lastly, I am interested in robotics and learning in general, i.e. getting (sensory) data, transform it, predict, and see how the reward or punishment gets in. Human learning is fascinating, as is machine learning. \n",
    "\n",
    "- Third, Cloud Computing. During the computation of quantile estimates for my master thesis in 2009, I remember my Macbook running during days and getting so hot that I had to put Ice underneath it. Here, I want to get aquainted with the resources available on the cloud to do heavy computing. I will hook onto Amazon Web Services EC2 Instances with GPUs in order to compute the Keras/TensorFlow parts of my Capstone. \n",
    "\n",
    "### Outline\n",
    "\n",
    "- I will try to train an toy, Atari-based AI agent on 1D input data. \n",
    "\n",
    "- I will not touch 2D visual inputs, since I found that convolutions are a separate topic block whick easily can be implemented as an extension to the presented building blocks. Besides that, one could also convert 2D to input 1D beforehand and proceed with the presented blocks.\n",
    "\n",
    "- In order to train the model, I will benchmark three reinforcement learning algorithms:\n",
    "    - Deep Q Learning\n",
    "    - Advantage Actor-Critic Policy Gradients\n",
    "    - Q Actor-Critic Policy Gradients\n",
    "\n",
    "Deep Q Learning is the entry point, since I can use my so-far knowledge of standard Q Learning (Smartcab!) and go one step further with it. Besides that, it only uses one model, compared with Policy Gradients, where two models come into play. I will develop the algorithm step-by-step, since it was the process I had to go through anyway to understand the logic. \n",
    "\n",
    "Policy Gradients will not be developed step-by-step, but recycling many building blocks of Deep Q Learning as well as the methodology.\n",
    "\n",
    "Benchmarking will be starting with brute-force parametrization combinatorics in order to hopefully find working models.\n",
    "\n",
    "Since this is expected to be computationally intensive, I will shift computation to AWS EC2 cloud.\n",
    "  \n",
    "### Main Dependencies\n",
    "\n",
    "#### The Notebook\n",
    "\n",
    "I've liked and used Jupyter notebooks for a quite some time now, and decided to write this story on one of them. During my research I got aware of beautiful Apache Zeppelin, which has a range of advantages over the Jupyter notebooks, e.g. Spark integration. Since this will be relevant in an ETL context, but not here (as I had to learn), and on the other hand has smaller inconveniences (like an unwilling carriage return `\\r`) let me stay with Jupyter for this project.\n",
    "\n",
    "The notebook runs on Python 2.\n",
    "\n",
    "#### The Environment \n",
    "\n",
    "I am working with Elon Musk's [Open AI Gym](https://gym.openai.com/) as a training environment for our AI agent.\n",
    "\n",
    "Lunar Lander environment is particularily appealing to me. It is based on box2d, which simulates real life physics. Charming!\n",
    "\n",
    "With its 1D input state vector of 8-digit floating numbers, it is a first step for creating and tuning an AI agent, before proceeding with convolution preprocessing of 2D inputs.\n",
    "\n",
    "The [environment docs](https://gym.openai.com/envs/LunarLander-v2) tell me:\n",
    "\n",
    ">\"Landing pad is always at coordinates (0,0). Coordinates are the first two numbers in state vector. Reward for moving from the top of the screen to landing pad and zero speed is about 100..140 points. If lander moves away from landing pad it loses reward back. Episode finishes if the lander crashes or comes to rest, receiving additional -100 or +100 points. Each leg ground contact is +10. Firing main engine is -0.3 points each step. Solved is 200 points. Landing outside landing pad is possible. Fuel is infinite, so an agent can learn to fly and then land on its first attempt. Four discrete actions available: do nothing, fire left orientation engine, fire main engine, fire right orientation engine.\"\n",
    "\n",
    "Model building and training is done with Keras. This modular, minimalist library makes ANN life as easy as it can get, and in plus runs on both Theano and Tensorflow backends. For specific gradients, I will rely on TensorFlow directly.\n",
    "\n",
    "### Credits and Thanks\n",
    "\n",
    "- Neural Networks\n",
    "    - [Andrew Trask](https://iamtrask.github.io)\n",
    "    - [Sebastian Raschka](http://sebastianraschka.com/Articles/2015_singlelayer_neurons.html)\n",
    "- Deep Q Learning\n",
    "    - [Deep Mind](Playing Atari with Deep Reinforcement Learning](https://www.cs.toronto.edu/~vmnih/docs/dqn.pdf)\n",
    "    - Tambet Matiisen ([here](https://www.nervanasys.com/demystifying-deep-reinforcement-learning/) and [here](https://github.com/tambetm/simple_dqn/blob/master/src/replay_memory.py))\n",
    "    - [Eder Santana](http://edersantana.github.io/articles/keras_rl/)\n",
    "    - [Ben Lau](https://yanpanlau.github.io/2016/07/10/FlappyBird-Keras.html)\n",
    "- Policy Gradients\n",
    "    - [Andrej Karpathy](http://karpathy.github.io/2016/05/31/rl/)\n",
    "    - [Denny Britz](https://github.com/dennybritz/reinforcement-learning/tree/master/PolicyGradient/)\n",
    "    - [Open AI Gym Documentation](https://gym.openai.com/docs/rl#policy-gradients)\n",
    "    - [David Silver](https://www.youtube.com/watch?v=KHZVXao4qXs)\n",
    "    - [Non-standard gradient optimization](https://github.com/fchollet/keras/issues/3062)\n",
    "- Keras\n",
    "    - Francois Chollet ([here](https://keras.io) and [here](https://github.com/fchollet/keras/tree/master/examples))\n",
    "- Box2D & Swig\n",
    "    - [Forums](https://github.com/openai/gym/issues/100)\n",
    "- Cloud Computing on Amazon Web Services EC2 / GPU activation\n",
    "    - [Amazon Tutorials](https://aws.amazon.com/de/ec2/)\n",
    "    - [Jie Yang](http://yangjie.me/2015/08/26/Run-Jupyter-Notebook-Server-on-AWS-EC2/)\n",
    "    - [David Sanwald](https://davidsanwald.github.io/ec2-openAI-gym-tensorflow-GPU-cuda-deep-learning.html#ec2-openAI-gym-tensorflow-GPU-cuda-deep-learning)\n",
    "    - [TensorFlow Instructions](https://www.tensorflow.org/versions/r0.7/get_started/os_setup.html#optional-install-cuda-gpus-on-linux)"
   ]
  },
  {
   "cell_type": "markdown",
   "metadata": {},
   "source": [
    "# Algorithm 1: Deep Q Learning"
   ]
  },
  {
   "cell_type": "markdown",
   "metadata": {},
   "source": [
    "## The Starting Point: Evaluating Bellman Equations From Data (Q-Learning)\n",
    "\n",
    "Q learning is about revisiting states. The agent is given a *memory* in form of a lookup table, where it stores states `s`, and updates the punishment or reward for each action it has taken. \n",
    "\n",
    "The number of possible combinations of the relevant inputs which constitute a state is called the state space. Whenever the state space is sufficiently small, the agent - at step `t` - might discover that it has already been in a specific state `s`. It therefore has made an experience by taking an action.\n",
    "\n",
    "If the agent should take advantage of its \"memory\" (possibly a dictionary of dictionaries, main keys being the states, values being the actions / keys and their values), it should use previous experiences and update them with new experiences:\n",
    "\n",
    "- It looks up the expected lifetime rewards per each possible action in `s` (a.k.a. action-value function, `q` values), selects the maximum `q` value, and executes the chosen action. \n",
    "- It obtains fresh evidence about the consequence of a specific action in a specific state: It knows the initial state `s_t`, the selected action `a_t`, the reward `r_t`, and the new state this all lead to, `s_t1`. \n",
    "- This knowledge it now uses to calculate a new `q` value for `s_t` by taking the observed reward `r_t`, and adding to it the discounted maximum `q` value for `s_t1`. The difference to the old `q` value is the new `q` value for action `a_t` in state `s_t`.\n",
    "\n",
    "It then chooses the action with the highest associated `q` value (<=> the maximum of the `q` function, or: the highest expected lifetime reward at step `t`) and moves onward another step.\n",
    "\n",
    "\n",
    "### Why Q-Learning Often Does Not Work: Exploding State Spaces\n",
    "\n",
    "The crux about state spaces is, that they can get very large very quickly. Just think of a small number of inputs, each input being a floating number with 4 digits. Even this small setting is creating a large amount of combinations: the state space explodes. Revisiting states will become very unlikely, even with a large amount of trials. As a consequence, learning is slow, or even not happening.\n",
    "\n",
    "In order to illustrate the point, I am going to set up a basic q-learning algorithm:"
   ]
  },
  {
   "cell_type": "markdown",
   "metadata": {},
   "source": [
    "#### Set Namespace\n",
    "\n",
    "I need numerical computing, an environment, a decent iterator, and proper Python 2 printouts:"
   ]
  },
  {
   "cell_type": "code",
   "execution_count": 2,
   "metadata": {
    "collapsed": false,
    "scrolled": true
   },
   "outputs": [],
   "source": [
    "import numpy as np\n",
    "import gym\n",
    "from itertools import count\n",
    "from sys import stdout"
   ]
  },
  {
   "cell_type": "markdown",
   "metadata": {},
   "source": [
    "#### Set Global Seed"
   ]
  },
  {
   "cell_type": "code",
   "execution_count": 3,
   "metadata": {
    "collapsed": false,
    "scrolled": true
   },
   "outputs": [],
   "source": [
    "np.random.seed(0)"
   ]
  },
  {
   "cell_type": "markdown",
   "metadata": {},
   "source": [
    "#### Set Hyperparameters\n",
    "\n",
    "- `NUM_EPISODE` denotes the maximum number of episodes an epoch will embrace.\n",
    "- `GAMMA` is the factor by which future expected rewards are discounted.\n",
    "- `ALPHA` is the learning rate.\n",
    "- `Q_TABLE` is the agent's memory. The states are the keys, and dictionaries of actions and their respective values are the values.\n",
    "- `VALUE_INIT` is the initial value for the actions of a state, once the state is visited the first time. It is set to zero."
   ]
  },
  {
   "cell_type": "code",
   "execution_count": 4,
   "metadata": {
    "collapsed": true,
    "scrolled": true
   },
   "outputs": [],
   "source": [
    "NUM_EPISODE = 100\n",
    "GAMMA = 0.99\n",
    "ALPHA = 0.1\n",
    "Q_TABLE = {}\n",
    "VALUE_INIT = 0"
   ]
  },
  {
   "cell_type": "markdown",
   "metadata": {},
   "source": [
    "#### Prepare Environment\n",
    "\n",
    "I create an instance (`ENV`) of the current Lunar Lander environment. \n",
    "\n",
    "Its input dimensions `NUM_INPUT` are obtained by resetting the environment, and the actions by the environment method `action_space`."
   ]
  },
  {
   "cell_type": "code",
   "execution_count": 5,
   "metadata": {
    "collapsed": false,
    "scrolled": true
   },
   "outputs": [
    {
     "name": "stderr",
     "output_type": "stream",
     "text": [
      "[2016-12-17 15:17:21,860] Making new env: LunarLander-v2\n"
     ]
    }
   ],
   "source": [
    "ENV = gym.make(\"LunarLander-v2\")\n",
    "NUM_INPUT = ENV.reset().shape[0]\n",
    "NUM_ACTION = ENV.action_space.n\n",
    "ACTIONS = np.arange(0, NUM_ACTION)"
   ]
  },
  {
   "cell_type": "markdown",
   "metadata": {},
   "source": [
    "#### Build Training Epoch\n",
    "\n",
    "I now will create the main building block of this exercise: The training block for one epoch. It contains more than zero episodes. An episode is defined as the period of steps `t` during which the agent is in play, i.e. has not yet crashed or succeeded to land properly.\n",
    "\n",
    "The function records statistics (*stats*) along the way:\n",
    "\n",
    "- The reward sum per episode\n",
    "- The number of times the lander was successful during the episode (with a reward greater or equal 100)\n",
    "- The number of times the game was solved (with a reward greater or equal 200)\n",
    "- The number of times the agent has revisited states, compared to the size of the Q table."
   ]
  },
  {
   "cell_type": "code",
   "execution_count": 7,
   "metadata": {
    "collapsed": false,
    "scrolled": true
   },
   "outputs": [],
   "source": [
    "def train_ql(render=False):\n",
    "    # Init epoch stats\n",
    "    stats = {}\n",
    "    \n",
    "    # Init counter for how many times the agent revisited states\n",
    "    revisiting_states = 0 \n",
    "\n",
    "    # Play through episodes\n",
    "    for episode in range(NUM_EPISODE):\n",
    "        # Init episode stats\n",
    "        stats[episode] = [0]*3\n",
    "        \n",
    "        # Init observations\n",
    "        x_t = ENV.reset() \n",
    "        # Take only the current observation as state, in order to keep the state space as small as possible\n",
    "        s_t = tuple(x_t) \n",
    "        done = False\n",
    "\n",
    "        # Start an episode\n",
    "        for step in count():\n",
    "            # Reset the environment for a new gaming step\n",
    "            if render: ENV.render()\n",
    "            \n",
    "            # Look up the action with the highest value at s_t, as well as its value\n",
    "            a_t, q, r_s  = best_action(s_t)\n",
    "\n",
    "            # Observe after action a_t\n",
    "            x_t1, r_t, done, info = ENV.step(a_t) \n",
    "            # Again, take only the current observation\n",
    "            s_t1 = tuple(x_t1) \n",
    "            \n",
    "            # Look up the action with the highest value at s_t1, as well as its value\n",
    "            a_t1, Q_sa, _ = best_action(s_t1) \n",
    "            \n",
    "            # Look up the action with the highest value at s_t1, as well as its value\n",
    "            Q_TABLE[s_t][a_t] = q + ALPHA * (r_t + GAMMA * Q_sa - q) \n",
    "            \n",
    "            # Update statistics: Sum up rewards, count steps, successes, solved\n",
    "            stats[episode][0] += r_t\n",
    "            if r_t >= 100: stats[episode][1] += 1\n",
    "            if r_t >= 200: stats[episode][2] += 1\n",
    "            \n",
    "            # Visualize\n",
    "            stdout.write(\"\\r{} | Step {} @ Episode {}/{}\".format(\\\n",
    "                EPOCH, step, episode, NUM_EPISODE))\n",
    "            \n",
    "            # Exit episode after crash or deadlock\n",
    "            if done or step > 10000: break\n",
    "            \n",
    "            # Update state\n",
    "            s_t = s_t1\n",
    "            revisiting_states += r_s\n",
    "            \n",
    "    # Visualize revisiting states issue\n",
    "    print \"\\rQ Table size {}, # Revisited States {}\".format(len(Q_TABLE), revisiting_states)\n",
    "    \n",
    "    return stats\n",
    "    \n",
    "    \n",
    "# Create helper function to initialize and query Q-table\n",
    "def best_action(state):\n",
    "    # Create init scenario for table queries at t and t1\n",
    "    if state not in Q_TABLE or sum(Q_TABLE[state].values()) == 0: \n",
    "        # Bookkeeping: Init revisiting states counter\n",
    "        revisit_state = 0 \n",
    "        \n",
    "        # Init q function\n",
    "        q_function = {} \n",
    "        for A in ACTIONS: q_function[A] = VALUE_INIT\n",
    "        Q_TABLE[state] = q_function \n",
    "        \n",
    "        # Do random action\n",
    "        action = np.random.choice(ACTIONS, 1)[0] \n",
    "    else: \n",
    "        revisit_state = 1\n",
    "        \n",
    "        # Select action according to max q\n",
    "        action = max(Q_TABLE[state], key=Q_TABLE[state].get) \n",
    "    \n",
    "    # Get q value for action selected\n",
    "    q = Q_TABLE[state][action] \n",
    "    \n",
    "    return action, q, revisit_state"
   ]
  },
  {
   "cell_type": "markdown",
   "metadata": {},
   "source": [
    "#### Train Model\n",
    "\n",
    "Now I call the function, derive the statistics for each episode, and calculate aggregate epoch statistics for benchmark reasons:"
   ]
  },
  {
   "cell_type": "code",
   "execution_count": 8,
   "metadata": {
    "collapsed": false,
    "scrolled": true
   },
   "outputs": [
    {
     "name": "stdout",
     "output_type": "stream",
     "text": [
      "Q Table size 9137, # Revisited States 0\n",
      "Epoch Q-Learning, Maximum Reward -26.2325081363, Successful Episodes 1, Solved Episodes 0"
     ]
    }
   ],
   "source": [
    "# Create model id\n",
    "EPOCH = \"Q-Learning\"\n",
    "                                \n",
    "# Train model / Play epoch\n",
    "stats = train_ql(render=True) \n",
    "\n",
    "# Calculate cumulative epoch statistics\n",
    "highest_reward = max([ v[0] for v in stats.values() ])\n",
    "success_episodes = sum([ v[1] for v in stats.values() ])\n",
    "solved_episodes = sum([ v[2] for v in stats.values() ])\n",
    "                                \n",
    "# Visualize\n",
    "stdout.write(\"\\rEpoch {}, Maximum Reward {}, Successful Episodes {}, Solved Episodes {}\".format(\\\n",
    "    EPOCH, highest_reward, success_episodes, solved_episodes))"
   ]
  },
  {
   "cell_type": "markdown",
   "metadata": {},
   "source": [
    "## What to Do? Do Not Update the Q Function, But the Q Function Estimator: Deep Q Learning\n",
    "\n",
    "WIth the fast growth of the state space for the Lunar Lander game in mind, I replace the \"revisiting states\" by a function approximator. An Artifical Neural Net (ANN) will estimate the `q` function for the state `s` at step `t`.\n",
    "\n",
    "Once the agent has performed an action, it will know the reward `r_t` and the subsequent state `s_t1`. Based on this, it is able to update its memory. But this time, it does not update the `q` function directly. Instead, it is updating the ANN, which means that is updating the weights used in the ANN. \n",
    "\n",
    "And that is how exactly:\n",
    "\n",
    "- At time `t`, the agent already knows the **estimation** of the `q` function for state `s_t`: It used it to pick an action `a_t` accordingly. \n",
    "\n",
    "- After action `a_t`, the agent knows `s_t`, `a_t`, `r_t` and `s_t1`. This allows us to update the `q` function, **but only for the action taken**:  The discounted expected lifetime reward is added to `r_t`. In other words: The ANN estimates the `q` function for state `s_t1`. \n",
    "\n",
    "- For the action taken, the agent now updates the `q` value. All the other actions are not performed, the agent does not know about the reward, or a subsequent state `s_t1`. So, the agent cannot learn for those. This updated `q` function is the **target**.\n",
    "\n",
    "The error, which is the difference between the estimation and the target, is backpropagated through the network, such that the weights are updated.\n",
    "\n",
    "Next time the agent lets estimate the `q` function for another state `s`, it will have updated weights at hand.\n",
    "\n",
    "### 0) Understand the Gist of ANNs\n",
    "\n",
    "For starters, I wanted to understand how a neural network works. Andrew Trask's excellent toy examples helped me immensely. \n",
    "\n",
    "According to his manual, I created a network with one hidden layer, and the output layer, both sigmoid activated, which returns probablities for each of the outputs.\n",
    "\n",
    "I used a sigmoid activation function due to the easy calculation of the derivative and the widespread application in neural nets.\n",
    "\n",
    "Except for numpy, there are no other dependencies.\n",
    "\n",
    "In the procedure, the magic happens with `layer_2_weighted_loss`: Each output loss is multiplied by the slope / gradient of the predicted value on the sigmoid curve.\n",
    "\n",
    "In order to get a feeling for changes invoked by changing parametrization, I will alter the learning rate `ALPHA` as well as the number of neurons in the hidden layer `NUM_HIDDEN_NEURON` within an arbitrary range."
   ]
  },
  {
   "cell_type": "markdown",
   "metadata": {},
   "source": [
    "#### Set Hyperparameters"
   ]
  },
  {
   "cell_type": "code",
   "execution_count": 12,
   "metadata": {
    "collapsed": true,
    "scrolled": true
   },
   "outputs": [],
   "source": [
    "ALPHA_RANGE = [10**-4, 10**-2, 1, 10**2, 10**4] # Constant over one epoch\n",
    "NUM_HIDDEN_NEURON_RANGE = [8, 16, 32, 64, 128, 256, 512] # Constant over one epoch"
   ]
  },
  {
   "cell_type": "markdown",
   "metadata": {},
   "source": [
    "#### Create A Basic ANN"
   ]
  },
  {
   "cell_type": "code",
   "execution_count": 13,
   "metadata": {
    "collapsed": false,
    "scrolled": true
   },
   "outputs": [
    {
     "name": "stdout",
     "output_type": "stream",
     "text": [
      "Hidden Size    8, alpha  0.0001: Avg loss 0.311711985355\n",
      "Hidden Size    8, alpha    0.01: Avg loss 0.316351149216\n",
      "Hidden Size    8, alpha       1: Avg loss 0.125451196023\n",
      "Hidden Size    8, alpha     100: Avg loss 0.00583897965451\n",
      "Hidden Size    8, alpha   10000: Avg loss 0.000523047646019\n",
      "Hidden Size   16, alpha  0.0001: Avg loss 0.261192776663\n",
      "Hidden Size   16, alpha    0.01: Avg loss 0.261460924131\n",
      "Hidden Size   16, alpha       1: Avg loss 0.127682841604\n",
      "Hidden Size   16, alpha     100: Avg loss 0.00466391554762\n",
      "Hidden Size   16, alpha   10000: Avg loss 0.000420495328557\n",
      "Hidden Size   32, alpha  0.0001: Avg loss 0.250099413284\n",
      "Hidden Size   32, alpha    0.01: Avg loss 0.250099420288\n",
      "Hidden Size   32, alpha       1: Avg loss 0.250100127022\n",
      "Hidden Size   32, alpha     100: Avg loss           0.25\n",
      "Hidden Size   32, alpha   10000: Avg loss           0.25\n",
      "Hidden Size   64, alpha  0.0001: Avg loss 0.250000363477\n",
      "Hidden Size   64, alpha    0.01: Avg loss 0.250000363477\n",
      "Hidden Size   64, alpha       1: Avg loss 0.250000363478\n",
      "Hidden Size   64, alpha     100: Avg loss 0.250000363607\n",
      "Hidden Size   64, alpha   10000: Avg loss 0.250000377067\n",
      "Hidden Size  128, alpha  0.0001: Avg loss           0.25\n",
      "Hidden Size  128, alpha    0.01: Avg loss           0.25\n",
      "Hidden Size  128, alpha       1: Avg loss           0.25\n",
      "Hidden Size  128, alpha     100: Avg loss           0.25\n",
      "Hidden Size  128, alpha   10000: Avg loss           0.25\n",
      "Hidden Size  256, alpha  0.0001: Avg loss           0.25\n",
      "Hidden Size  256, alpha    0.01: Avg loss           0.25\n",
      "Hidden Size  256, alpha       1: Avg loss           0.25\n",
      "Hidden Size  256, alpha     100: Avg loss           0.25\n",
      "Hidden Size  256, alpha   10000: Avg loss           0.25\n",
      "Hidden Size  512, alpha  0.0001: Avg loss           0.25\n",
      "Hidden Size  512, alpha    0.01: Avg loss           0.25\n",
      "Hidden Size  512, alpha       1: Avg loss           0.25\n",
      "Hidden Size  512, alpha     100: Avg loss           0.25\n",
      "Hidden Size  512, alpha   10000: Avg loss           0.25\n"
     ]
    }
   ],
   "source": [
    "# Create the helper functions \n",
    "\n",
    "# Create the sigmoid function\n",
    "def sigmoid(x):\n",
    "    return 1 / (1 + np.exp(-x))\n",
    "\n",
    "# Create the sigmoid function's derivative\n",
    "def sigmoid_derivative(x):\n",
    "    return x * (1 - x)\n",
    "\n",
    "\n",
    "# Initialize weights with the correct dimensionality to fit in the input layer\n",
    "X = np.random.randint(2, size=(4, 3))\n",
    "y = np.random.randint(2, size=(4, 1))\n",
    "\n",
    "# Test the hidden dimensions\n",
    "for NUM_HIDDEN_NEURON in NUM_HIDDEN_NEURON_RANGE: \n",
    "    \n",
    "    # Initialize 1st set of weights\n",
    "    W1 = np.random.rand(X.shape[1], NUM_HIDDEN_NEURON) \n",
    "\n",
    "    # Initialize 2nd set of weights\n",
    "    W2 = np.random.rand(NUM_HIDDEN_NEURON, y.shape[1]) \n",
    "    \n",
    "    # Test the alphas\n",
    "    for ALPHA in ALPHA_RANGE: \n",
    "        \n",
    "        for episode in range(NUM_EPISODE):\n",
    "            # Forward propagate\n",
    "            \n",
    "            # Initialize hidden layer (fully connected)\n",
    "            layer_1 = np.dot(X, W1)\n",
    "            \n",
    "            # Apply sigmoid activation\n",
    "            layer_1 = sigmoid(layer_1) \n",
    "            \n",
    "            # Initialize output layer(fully connected)\n",
    "            layer_2 = np.dot(layer_1, W2) \n",
    "            \n",
    "            # Apply sigmoid activation \n",
    "            layer_2 = sigmoid(layer_2) \n",
    "\n",
    "            # Calculate loss\n",
    "            layer_2_loss = y - layer_2 \n",
    "\n",
    "            ''' Apply SGD to the loss: the more certain the estimate, the less weighted it will get: \n",
    "                The gradient at the extremes is smaller than in the middle\n",
    "            '''\n",
    "            layer_2_weighted_loss = layer_2_loss * sigmoid_derivative(layer_2) # element-wise multiplication!\n",
    "            \n",
    "            # Backpropagate\n",
    "            \n",
    "            # Compute the effect of the hidden layer to the weighted loss\n",
    "            layer_1_loss = np.dot(layer_2_weighted_loss, W2.T) \n",
    "\n",
    "            # Apply SGD\n",
    "            layer_1_weighted_loss = layer_1_loss * sigmoid_derivative(layer_1) \n",
    "                \n",
    "            # Update weights\n",
    "            W2 += ALPHA * np.dot(layer_1.T, layer_2_weighted_loss)\n",
    "            W1 += ALPHA * np.dot(X.T, layer_1_weighted_loss)\n",
    "            \n",
    "            # Visualize\n",
    "            if episode == NUM_EPISODE - 1: print \"Hidden Size {}, alpha {}: Avg loss {}\".format(\n",
    "                                                '%4s' % NUM_HIDDEN_NEURON, \\\n",
    "                                                '%7s' % ALPHA, \\\n",
    "                                                '%14s' % np.mean(np.abs(layer_2_loss)))"
   ]
  },
  {
   "cell_type": "markdown",
   "metadata": {},
   "source": [
    "#### Observations\n",
    "\n",
    "Clearly visible, the parametrization of the network has an impaction upon the network performance. Some configurations work well, like e.g. a hidden size of 8 with an `ALPHA` of 100.\n",
    "\n",
    "### 1) Deep Q Learning from Single Current Observations\n",
    "\n",
    "In order to implement the estimator, I now change the training epoch function. I first get rid of the lookup table `Q_TABLE` and the table's `q` value initialization `Q_INIT`. In plus, I do not need the learning rate `ALPHA` anymore. In stead, I implement the above-standing routine 1) to 5). "
   ]
  },
  {
   "cell_type": "markdown",
   "metadata": {},
   "source": [
    "#### Extend Namespace\n",
    "\n",
    "From the Keras library, I import the basic `Sequential` model, with two different layer types: "
   ]
  },
  {
   "cell_type": "code",
   "execution_count": 6,
   "metadata": {
    "collapsed": false,
    "scrolled": true
   },
   "outputs": [
    {
     "name": "stderr",
     "output_type": "stream",
     "text": [
      "Using TensorFlow backend.\n"
     ]
    }
   ],
   "source": [
    "from keras.models import Sequential\n",
    "from keras.layers import Dense, Activation"
   ]
  },
  {
   "cell_type": "markdown",
   "metadata": {},
   "source": [
    "#### Extend Hyperparameters\n",
    "\n",
    "I now extend the original set of hyperparameters which the following ones:\n",
    "\n",
    "- `STEP_MEM` is the number of steps the agent should take into account as the current state it is in: This is the \"operational\" memory of the agent. I will refer to it as step memory.\n",
    "- `NUM_HIDDEN_NEURON` is the number of neurons in the hidden layer, see below.\n",
    "- `INITIALIZATION` is one of the available weight initializations in Keras, see below."
   ]
  },
  {
   "cell_type": "code",
   "execution_count": null,
   "metadata": {
    "collapsed": false,
    "scrolled": true
   },
   "outputs": [],
   "source": [
    "ALPHA = 10\n",
    "STEP_MEM = 1\n",
    "NUM_HIDDEN_NEURON = 200\n",
    "INITIALIZATION = 'glorot_uniform'\n",
    "ACTIVATION = 'relu'"
   ]
  },
  {
   "cell_type": "markdown",
   "metadata": {},
   "source": [
    "#### Build Keras Model\n",
    "\n",
    "When I started with building models, I naturally had to get aquainted with the Keras API semantics first. As indicated above, I want to start out with a shallow model version to understand fully the model mechanics, and leave it to a later stage to deepen the model.\n",
    "\n",
    "At this point, I play around with the parametrization quite a bit, and go forward with a nicely working model: \n",
    "\n",
    "I chose Keras' `Sequential` model architecture, creating a model consisting of \n",
    "\n",
    "- one fully-connected hidden layer (Keras terminology is `Dense`) plus an non-linear `relu` Activation (as seen with Ben Lau too).\n",
    "\n",
    "- the output layer with softmax activation, which produces probabilities for each of the possible actions given a certain state input. Here, I am not entirely sure if using probabilities in stead of a regression output is against some rules in Deep Q Learning. I tried also a linear activation and thereby found out that the probabilities are working very nicely. Comments on this are especially welcome."
   ]
  },
  {
   "cell_type": "code",
   "execution_count": null,
   "metadata": {
    "collapsed": false,
    "scrolled": true
   },
   "outputs": [],
   "source": [
    "def _create_network():\n",
    "    model = Sequential()\n",
    "    model.add(Dense(NUM_HIDDEN_NEURON, init=INITIALIZATION, input_shape=(STEP_MEM*NUM_INPUT,))) \n",
    "    model.add(Activation(ACTIVATION))\n",
    "    model.add(Dense(NUM_ACTION, init=INITIALIZATION))\n",
    "    model.add(Activation('softmax'))\n",
    "    model.compile(optimizer='rmsprop',\n",
    "                loss='categorical_crossentropy',\n",
    "                metrics=['accuracy'])\n",
    "    return model"
   ]
  },
  {
   "cell_type": "markdown",
   "metadata": {
    "collapsed": false
   },
   "source": [
    "#### Build Training Epoch\n",
    "\n",
    "The epoch build will always follow the same pattern. New elements or changes w.r.t. the previous epoch are indicated in the code comment."
   ]
  },
  {
   "cell_type": "code",
   "execution_count": 18,
   "metadata": {
    "collapsed": false,
    "scrolled": true
   },
   "outputs": [],
   "source": [
    "def dqn_1(model, render=False):\n",
    "    # Init epoch stats\n",
    "    stats = {}\n",
    "\n",
    "    # Play through episodes\n",
    "    for episode in range(NUM_EPISODE): \n",
    "        # Init episode stats\n",
    "        stats[episode] = [0]*3\n",
    "        \n",
    "        # Init observations\n",
    "        x_t = ENV.reset()\n",
    "        # Pile up FRAME_MEM times the same init observation, in order to be consistent with the model input\n",
    "        s_t = np.tile(x_t, STEP_MEM)\n",
    "        done = False\n",
    "\n",
    "        # Start an episode\n",
    "        for step in count():\n",
    "            \n",
    "            # Reset the environment for a new gaming step\n",
    "            if render: ENV.render()\n",
    "    \n",
    "            # Estimate q for each action at s_t\n",
    "            q = model.predict(s_t[np.newaxis])[0] \n",
    "\n",
    "            # Take action with highest estimated reward (argmax returns index)\n",
    "            a_t = np.argmax(q) \n",
    "            \n",
    "            # Observe after action a_t\n",
    "            x_t, r_t, done, info = ENV.step(a_t) \n",
    "            \n",
    "            # Create state at t1: Append x observations, throw away the earliest\n",
    "            s_t1 = np.concatenate((x_t, s_t[:(STEP_MEM-1) * NUM_INPUT,]), axis=0) \n",
    "\n",
    "            # Estimate q for each action at s_t1 (again a forward pass)\n",
    "            Q_sa = model.predict(s_t1[np.newaxis])[0] \n",
    "\n",
    "            ''' Create reference/targets by updating estimated reward for chosen action:\n",
    "                For action taken, replace estimated reward by remaining cumulative lifetime reward\n",
    "            ''' \n",
    "            targets = q\n",
    "            targets[a_t] = r_t + GAMMA * np.max(Q_sa) if not done else r_t\n",
    "\n",
    "            ''' Learn!\n",
    "                - Again, predict q values for state s_t\n",
    "                - Calculate loss by comparing predictions to targets: they will differ only for the action taken\n",
    "                - backpropagate error for action taken, update weights\n",
    "            ''' \n",
    "            model.fit(s_t[np.newaxis], targets[np.newaxis], verbose=0)\n",
    "            \n",
    "            # Update statistics: Sum up rewards, count steps, successes, solved\n",
    "            stats[episode][0] += r_t\n",
    "            if r_t >= 100: stats[episode][1] += 1\n",
    "            if r_t >= 200: stats[episode][2] += 1\n",
    "            \n",
    "            # Visualize\n",
    "            stdout.write(\"\\r{} | Step {} @ Episode {}/{}\".format(\\\n",
    "                EPOCH, step, episode, NUM_EPISODE))\n",
    "   \n",
    "            # Exit episode after crash or deadlock\n",
    "            if done or step > 10000: break\n",
    "\n",
    "            # Update state\n",
    "            s_t = s_t1\n",
    "            \n",
    "    return stats"
   ]
  },
  {
   "cell_type": "markdown",
   "metadata": {},
   "source": [
    "#### Train Model\n",
    "\n",
    "Let's try! I played around with some parametrizations and observed what works, then I got back to the parametrization and adapted accordingly."
   ]
  },
  {
   "cell_type": "code",
   "execution_count": 20,
   "metadata": {
    "collapsed": false,
    "scrolled": false
   },
   "outputs": [
    {
     "name": "stdout",
     "output_type": "stream",
     "text": [
      "Epoch 10_1_200_glorot_uniform_relu_0.99, Maximum Reward 171.851045344, Successful Episodes 3, Solved Episodes 0"
     ]
    }
   ],
   "source": [
    "# Initialize model\n",
    "model = _create_network() \n",
    "\n",
    "# Create model id\n",
    "EPOCH = '_'.join([repr(ALPHA), repr(STEP_MEM), str(NUM_HIDDEN_NEURON), INITIALIZATION, ACTIVATION, str(round(GAMMA, 2))])\n",
    "                                \n",
    "# Train model / Play epoch\n",
    "stats = dqn_1(model) \n",
    "\n",
    "# Calculate cumulative epoch statistics\n",
    "highest_reward = max([ v[0] for v in stats.values() ])\n",
    "success_episodes = sum([ v[1] for v in stats.values() ])\n",
    "solved_episodes = sum([ v[2] for v in stats.values() ])\n",
    "                                \n",
    "# Visualize\n",
    "stdout.write(\"\\rEpoch {}, Maximum Reward {}, Successful Episodes {}, Solved Episodes {}\".format(\\\n",
    "    EPOCH, highest_reward, success_episodes, solved_episodes))"
   ]
  },
  {
   "cell_type": "markdown",
   "metadata": {},
   "source": [
    "#### Observations\n",
    "\n",
    "That is quite working nicely already! The frantic, purpose-less behaviour is gone most of the time, or is vanishing quickly within a few episodes only.\n",
    "\n",
    "What can I learn from this basic implementation?\n",
    "\n",
    "- I could consider the model architecture:\n",
    "\n",
    "    - Does the weight initializations make sense? What are the alternatives?\n",
    "    - Does the nonlinear activation function for the hidden layer make sense? What are the alternatives? \n",
    "    - What about the number of neurons in the hidden layer?\n",
    "\n",
    "I also should think of tuning the step memory `STEP_MEM`: Does it make sense to let the agent know only its current state, or shall I allow him to take into consideration also some of the states before? If yes, how far back should it remember? \n",
    "\n",
    "What did I actually observe?\n",
    "\n",
    "- Most of the time, I obseve an extensive swinging movement. The agent tries to counter-act skewed positions by engaging the lateral engines, and overdoes it. Then, it corrects again, and again, and from all these corrections forgets to fire against the moon's gravity, and then crashes into the surface.\n",
    "- There are plenty of times I can see the agent trapped into a locally optimal policy. For example, it stays on the ground, engaging left and right engine forever, perfectly stable, but not reaching the ultimate goal. Or a setting where left and right engines are engaged, but the lower engine does not fire at all, over long episodes.\n",
    "\n",
    "### 2) *Epsilon Greedy* Deep Q Learning from Single Observations\n",
    "\n",
    "At this point, I want to tackle the issue of getting stuck in local minima. As a remedy, Deep Q Learning makes use the so called *epsilon greedy* action selection policy. It allows for a random move with probability `epsilon`, and by that introduces the notion of exploration (random moves) vs. exploitation (act on estimation of the q function). \n",
    "\n",
    "*Exploration* will reduce the probability of getting stuck in local minima, which are *not* reflecting the best action given a certain experience level of the agen. It's just like fresh air for the AI brain, introducing random ideas from outside. \n",
    "\n",
    "On the other hand, the agent needs to train and get experience with his selected moves. It needs evidence that one decision was (not) the right one, and to update its decicion finding process (the weights of the ANN. It only gets it by acting according to its own decisions undisturbed by random inputs. This is where *exploitation* comes in.\n",
    "\n",
    "In RL, usually `epsilon` decreases over a certain exploration period. This reflects the idea that the agent will start with many random moves to fathom the environment by just observing. With time and growing experience, it will decrease the share of random moves, since it feels more confident in its own decisions. \n",
    "\n",
    "I will follow th custom of allowing random moves at a linearly decreasing exploration rate during the exploration period. Following Deep Mind: Playing Atari with Deep Reinforcement Learning (p.6), I define a interval between the maximum and minimum `epsilon` allowed (`EPSILON_RANGE`). The exploration period (`NUM_EXPLORATION_STEP`) is set to roughly 1/10 of the total number of steps. Assuming an average 100 steps per episode lets `epsilon` decrease until Episode 6. If I increase the average to 150, I end up with the desired 10 episodes until minimum `epsilon`. \n",
    "\n",
    "During training, the agent will run on the minimum `epsilon` constantly.\n",
    "\n",
    "#### Extend Hyperparameters"
   ]
  },
  {
   "cell_type": "code",
   "execution_count": null,
   "metadata": {
    "collapsed": false,
    "scrolled": true
   },
   "outputs": [],
   "source": [
    "EPSILON_RANGE = [0.1, 0.0001]\n",
    "NUM_EXPLORATION_STEP = NUM_EPISODE * 15"
   ]
  },
  {
   "cell_type": "markdown",
   "metadata": {},
   "source": [
    "#### Build Training Epoch"
   ]
  },
  {
   "cell_type": "code",
   "execution_count": 9,
   "metadata": {
    "collapsed": false,
    "scrolled": true
   },
   "outputs": [],
   "source": [
    "def dqn_2(model, render=False): \n",
    "    ##NEW Initialize epsilon at its maximum value\n",
    "    epsilon = EPSILON_RANGE[0] \n",
    "    \n",
    "    # Init epoch stats\n",
    "    stats = {}\n",
    "\n",
    "    # Play through episodes\n",
    "    for episode in range(NUM_EPISODE): \n",
    "        # Init episode stats\n",
    "        stats[episode] = [0]*3\n",
    "        \n",
    "        # Init observations        \n",
    "        x_t = ENV.reset()\n",
    "        s_t = np.tile(x_t, STEP_MEM)\n",
    "        done = False\n",
    "\n",
    "        # Start an episode\n",
    "        for step in count():\n",
    "            \n",
    "            # Reset the environment for a new gaming step\n",
    "            if render: ENV.render()\n",
    "            \n",
    "            ###NEW Linarily anneal random exploration rate epsilon over exploration period            \n",
    "            epsilon = max(epsilon - (EPSILON_RANGE[0] - EPSILON_RANGE[1]) / NUM_EXPLORATION_STEP, EPSILON_RANGE[1])\n",
    "    \n",
    "            # Estimate q for each action at s_t\n",
    "            q = model.predict(s_t[np.newaxis])[0]\n",
    "\n",
    "            # Take action with highest estimated reward \n",
    "            ###NEW Do this with probability 1-epsilon (\"epsilon greedy\" policy)\n",
    "            a_t = np.argmax(q) if np.random.random() > epsilon else np.random.choice(ACTIONS, 1)[0]\n",
    "\n",
    "            # Observe after action a_t\n",
    "            x_t, r_t, done, info = ENV.step(a_t)\n",
    "        \n",
    "            # Create state at t1: Append x observations, throw away the earliest\n",
    "            s_t1 = np.concatenate((x_t, s_t[:(STEP_MEM-1) * NUM_INPUT,]), axis=0)\n",
    "\n",
    "            # Estimate q for each action at s_t1 (again a forward pass)\n",
    "            Q_sa = model.predict(s_t1[np.newaxis])[0]\n",
    "\n",
    "            ''' Create reference/targets by updating estimated reward for chosen action\n",
    "                For action taken, replace estimated reward by remaining cumulative lifetime reward\n",
    "            ''' \n",
    "            targets = q\n",
    "            targets[a_t] = r_t + GAMMA * np.max(Q_sa) if not done else r_t\n",
    "\n",
    "            ''' Learn!\n",
    "                - Again, predict q values for state s_t\n",
    "                - Calculate loss by comparing predictions to targets: they will differ only for the action taken\n",
    "                - backpropagate error for action taken, update weights\n",
    "            ''' \n",
    "            model.fit(s_t[np.newaxis], targets[np.newaxis], verbose=0)\n",
    "            \n",
    "            # Update statistics: Sum up rewards, count steps, successes, solved\n",
    "            stats[episode][0] += r_t\n",
    "            if r_t >= 100: stats[episode][1] += 1\n",
    "            if r_t >= 200: stats[episode][2] += 1\n",
    "            \n",
    "            # Visualize\n",
    "            stdout.write(\"\\r{} | Step {} @ Episode {}/{} | Epsilon {}\".format(\\\n",
    "                EPOCH, step, episode, NUM_EPISODE, epsilon))\n",
    "   \n",
    "            # Exit episode after crash or deadlock\n",
    "            if done or step > 10000: break            \n",
    "\n",
    "            # Update state\n",
    "            s_t = s_t1\n",
    "            \n",
    "    return stats"
   ]
  },
  {
   "cell_type": "markdown",
   "metadata": {},
   "source": [
    "#### Train Model"
   ]
  },
  {
   "cell_type": "code",
   "execution_count": 10,
   "metadata": {
    "collapsed": false,
    "scrolled": true
   },
   "outputs": [
    {
     "name": "stdout",
     "output_type": "stream",
     "text": [
      "Epoch 10_1_200_glorot_uniform_relu_0.99, Maximum Reward 209.020101356, Successful Episodes 9, Solved Episodes 0"
     ]
    }
   ],
   "source": [
    "# Initialize model\n",
    "model = _create_network() \n",
    "\n",
    "# Create model id\n",
    "EPOCH = '_'.join([repr(ALPHA), repr(STEP_MEM), str(NUM_HIDDEN_NEURON), INITIALIZATION, ACTIVATION, str(round(GAMMA, 2))])\n",
    "                                \n",
    "# Train model / Play epoch\n",
    "stats = dqn_2(model, render=True) \n",
    "\n",
    "# Calculate cumulative epoch statistics\n",
    "highest_reward = max([ v[0] for v in stats.values() ])\n",
    "success_episodes = sum([ v[1] for v in stats.values() ])\n",
    "solved_episodes = sum([ v[2] for v in stats.values() ])\n",
    "                                \n",
    "# Visualize\n",
    "stdout.write(\"\\rEpoch {}, Maximum Reward {}, Successful Episodes {}, Solved Episodes {}\".format(\\\n",
    "    EPOCH, highest_reward, success_episodes, solved_episodes))"
   ]
  },
  {
   "cell_type": "markdown",
   "metadata": {},
   "source": [
    "### 3) Deep Q Learning *from Stored Experiences* \n",
    "\n",
    "Deep Mind: Playing Atari with Deep Reinforcement Learning claims that \n",
    "\n",
    ">learning directly from consecutive samples is inefficient, due to the strong correlations between the samples\n",
    "\n",
    "(p.5). Instead, the trick is to learn from a memory storage, which is called Experience Replay Memory (`ERM`) here, in batches. The `ERM` is set up once per epoch. It is fed at each step with fresh transition evidence, and it is cropped again when its maximum size is reached.\n",
    "\n",
    "The `ERM` is the main database of the agent: It is the place where it \n",
    "- stores states and its experiences with the states (transitions `s_t`, `a_t`, `r_t`, and `s_t1`)\n",
    "- recalls on the memory, collects a memory sample, trains on the sample, and updates the `q` function estimator.\n",
    "\n",
    "Each memory update operates on a batch size of 32 randomly samples experiences. From what I [read](http://www.bitfusion.io/2016/11/03/quick-comparison-of-tensorflow-gpu-performance-on-aws-p2-and-g2-instances/), larger batch sizes are increasing the probability of the algorithm getting caught in local minima, so I stick with the DeepMind indication here, and do not test out this parameter."
   ]
  },
  {
   "cell_type": "markdown",
   "metadata": {},
   "source": [
    "#### Extend Namespace\n",
    "\n",
    "For the `ERM`, I need a fast queue:"
   ]
  },
  {
   "cell_type": "code",
   "execution_count": null,
   "metadata": {
    "collapsed": true,
    "scrolled": true
   },
   "outputs": [],
   "source": [
    "from collections import deque"
   ]
  },
  {
   "cell_type": "markdown",
   "metadata": {},
   "source": [
    "#### Extend Hyperparameters\n",
    "\n",
    "`ERM_SIZE` is setting the size of the experience replay memory. Following the recommendation of Deep Mind: Playing Atari with Deep Reinforcement Learning (p.6), I set it equal to the number of exploration steps. `BATCH_SIZE` denotes the size of the transition sample which is drawn uniformly without replacement from the `ERM` at each step. Again, its size is following the recommendations of Deep Mind: Playing Atari with Deep Reinforcement Learning (p.6)."
   ]
  },
  {
   "cell_type": "code",
   "execution_count": null,
   "metadata": {
    "collapsed": false,
    "scrolled": true
   },
   "outputs": [],
   "source": [
    "ERM_SIZE = NUM_EXPLORATION_STEP\n",
    "BATCH_SIZE = 32"
   ]
  },
  {
   "cell_type": "markdown",
   "metadata": {},
   "source": [
    "#### Build Training Epoch"
   ]
  },
  {
   "cell_type": "code",
   "execution_count": 14,
   "metadata": {
    "collapsed": false,
    "scrolled": true
   },
   "outputs": [],
   "source": [
    "def dqn_3(model, render=False):\n",
    "    # Init epsilon and ERM\n",
    "    epsilon = EPSILON_RANGE[0]\n",
    "    ERM = deque(maxlen=ERM_SIZE)\n",
    "    \n",
    "    # Init epoch stats\n",
    "    stats = {}\n",
    "    \n",
    "    # Play through episodes\n",
    "    for episode in range(NUM_EPISODE): \n",
    "        # Init episode stats\n",
    "        stats[episode] = [0]*3\n",
    "        \n",
    "        # Init observations        \n",
    "        x_t = ENV.reset()\n",
    "        s_t = np.tile(x_t, STEP_MEM)\n",
    "        done = False\n",
    "\n",
    "        # Start an episode\n",
    "        for step in count():\n",
    "            \n",
    "            # Reset the environment for a new gaming step\n",
    "            if render: ENV.render()\n",
    "            \n",
    "            # Linarily anneal random exploration rate epsilon over exploration period    \n",
    "            ###NEW Exploration starts only when ERM is complete\n",
    "            if len(ERM) < ERM_SIZE: epsilon = EPSILON_RANGE[0]\n",
    "            else: epsilon = max(epsilon - (EPSILON_RANGE[0] - EPSILON_RANGE[1]) / NUM_EXPLORATION_STEP, EPSILON_RANGE[1])\n",
    "    \n",
    "            # Estimate q for each action at s_t\n",
    "            q = model.predict(s_t[np.newaxis])[0]\n",
    "\n",
    "            # Take action with highest estimated reward with probability 1-epsilon (\"epsilon greedy\" policy)\n",
    "            a_t = np.argmax(q) if np.random.random() > epsilon else np.random.choice(ACTIONS, 1)[0]\n",
    "\n",
    "            # Observe after action a_t\n",
    "            x_t, r_t, done, info = ENV.step(a_t)\n",
    "        \n",
    "            # Create state at t1: Append x observations, throw away the earliest\n",
    "            s_t1 = np.concatenate((x_t, s_t[:(STEP_MEM-1) * NUM_INPUT,]), axis=0)\n",
    "            \n",
    "            ###NEW Store transition in experience replay memory\n",
    "            ERM.append((s_t, a_t, r_t, s_t1))\n",
    "\n",
    "            ###NEW Choose a batch of maximum length BATCH_SIZE\n",
    "            minibatch = np.array([ ERM[i] for i in np.random.choice(np.arange(0, len(ERM)), min(len(ERM), BATCH_SIZE)) ])\n",
    "            \n",
    "            ###NEW Compute targets/reference for each transition in minibatch\n",
    "            inputs = deque(); targets = deque()\n",
    "            for m in minibatch:\n",
    "                inputs.append(m[0]) # Append s_t of batch transition m to inputs\n",
    "                m_q = model.predict(m[0][np.newaxis])[0] # Estimate rewards for each action (targets), at s_t\n",
    "                m_Q_sa = model.predict(m[3][np.newaxis])[0] # Estimate rewards for each action (targets), at s_t1\n",
    "                m_targets = m_q\n",
    "                m_targets[m[1]] = m[2] + GAMMA * np.max(m_Q_sa)\n",
    "                targets.append(m_targets) # Append target of batch transition m to targets\n",
    "                \n",
    "            ###NEW Train the model by backpropagating the errors and update weights\n",
    "            model.train_on_batch(np.array(inputs), np.array(targets))\n",
    "            \n",
    "            # Update statistics: Sum up rewards, count steps, successes, solved\n",
    "            stats[episode][0] += r_t\n",
    "            if r_t >= 100: stats[episode][1] += 1\n",
    "            if r_t >= 200: stats[episode][2] += 1\n",
    "            \n",
    "            # Visualize\n",
    "            stdout.write(\"\\r{} | Step {} @ Episode {}/{} | Epsilon {}\".format(\\\n",
    "                EPOCH, step, episode, NUM_EPISODE, epsilon))\n",
    "            \n",
    "            # Exit episode after crash or deadlock\n",
    "            if done or step > 10000: break           \n",
    "            \n",
    "            # Update state\n",
    "            s_t = s_t1  \n",
    "            \n",
    "    return stats"
   ]
  },
  {
   "cell_type": "markdown",
   "metadata": {},
   "source": [
    "#### Train Model"
   ]
  },
  {
   "cell_type": "code",
   "execution_count": 53,
   "metadata": {
    "collapsed": false,
    "scrolled": true
   },
   "outputs": [
    {
     "name": "stdout",
     "output_type": "stream",
     "text": [
      "Epoch 10_1_200_glorot_uniform_relu_0.99, Maximum Reward -30.5726153344, Successful Episodes 4, Solved Episodes 0"
     ]
    }
   ],
   "source": [
    "# Initialize model\n",
    "model = _create_network() \n",
    "\n",
    "# Create model id\n",
    "EPOCH = '_'.join([repr(ALPHA), repr(STEP_MEM), str(NUM_HIDDEN_NEURON), INITIALIZATION, ACTIVATION, str(round(GAMMA, 2))])\n",
    "                                \n",
    "# Train model / Play epoch\n",
    "stats = dqn_3(model, render=True) \n",
    "\n",
    "# Calculate cumulative epoch statistics\n",
    "highest_reward = max([ v[0] for v in stats.values() ])\n",
    "success_episodes = sum([ v[1] for v in stats.values() ])\n",
    "solved_episodes = sum([ v[2] for v in stats.values() ])\n",
    "                                \n",
    "# Visualize\n",
    "stdout.write(\"\\rEpoch {}, Maximum Reward {}, Successful Episodes {}, Solved Episodes {}\".format(\\\n",
    "    EPOCH, highest_reward, success_episodes, solved_episodes))"
   ]
  },
  {
   "cell_type": "markdown",
   "metadata": {},
   "source": [
    "#### Observations\n",
    "\n",
    "Learning from stored experiences clearly needs more time!\n",
    "\n",
    "A notion crossed my mind, during experimenting with the batch piece: Why not perform a prediction for each sample transition of the `ERM`, during iterating through the batch? \n",
    "\n",
    "Probably, because it has the disadvantage that I predict with the knowledge available at step `t`. This might be faulty, and the faulty prediction stays as target reference in the batch, and is used to compare the loss for the taken action between the prediction at timestep `t` and the potenitially long ago target estimation. This will bias the learning process significantly. Thus, `model.train_on_batch` is done only after the batch has been created and computed.\n",
    "\n",
    "### 4) Exploring Parametrizations\n",
    "\n",
    "The goal of the following parameter space exploration is to identify well-working parameter settings, in order to run them afterwards on a intense scale again. \n",
    "\n",
    "I first switched to a local Windows Server 2008 R2 Enterprise with a quad core Intel Xeon CPU E5-2680 @ 2.7 GHz and 32 GB RAM. Then, I moved onward to AWS EC2. \n",
    "\n",
    "For the cloud computing part, I made my first steps on Ubuntu 16.04 t2.micro free tier instances, and then switch to a Ubuntu 16.04 c4.8xlarge instance. It took me a while to get aquainted with the AWS UX, to set up an IAM user, a Security Group, all the dependencies for this project, and the notebook server. I wrote a shell script for the whole set-up and spent hours on spinning up proper instances and some dollars for it while bidding for the lowest price. The main issues were connected to the jupyter notebook as well as the box2d dependency of the Lunar Lander environment.\n",
    "\n",
    "At for the epoch, I originally wanted to introduce more parameters:\n",
    "\n",
    "- Steps per Action (`SPA`) determines how many steps pass before a fresh action is taken. Deep Mind - Playing Atari with Deep Reinforcement Learning suggests 4 skipping 4 time steps before conducting an action (p.6): `if step % SPA == 0: a_t = np.argmax(q) if np.random.random() > epsilon else np.random.choice(ACTIONS, 1)[0]`.\n",
    "\n",
    "- Reward Clipping (`R_CLIP`) is also an idea taken from Deep Mind - Playing Atari with Deep Reinforcement Learning (p.6), where it was implemented in order to make rewards comparable across the different games: `if R_CLIP and r_t != 0: r_t = abs(r_t) / r_t`.\n",
    "\n",
    "I also wanted to loop over all possible Keras activations and initializations, as well as trying out different `GAMMA`. I even thought about using different `EPSILON_RANGE`. With that done, I soon realized that the parameter space was truly exploding. Regardless the platform I was running the parameter combination on, it took an extremely long time. \n",
    "\n",
    "So I stepped back. Parameter space exploration will be done on ranges of `ALPHA`, `NUM_HIDDEN_NEURON`, and `STEP_MEM` only. `EPSILON_RANGE` starts at 20% instead of 10%.\n",
    "\n",
    "I will also write down working parameter settings to `.json`files in the home directory subfolder `RL_SAVES`. In the UNIX case, I `scp` back those files the local machine for further scrutiny."
   ]
  },
  {
   "cell_type": "markdown",
   "metadata": {},
   "source": [
    "#### Extend Namespace"
   ]
  },
  {
   "cell_type": "code",
   "execution_count": 7,
   "metadata": {
    "collapsed": false,
    "scrolled": true
   },
   "outputs": [],
   "source": [
    "import json\n",
    "from os import path, makedirs\n",
    "from operator import itemgetter"
   ]
  },
  {
   "cell_type": "markdown",
   "metadata": {},
   "source": [
    "#### Extend Hyperparameters\n",
    "\n",
    "- Step Memory `STEP_MEM`. I replace the fixed hyperparameter by an arbitrary range of `STEP_MEM` candidates (`STEP_MEM_RANGE`)\n",
    "- `SAVE_PATH` is the working directory where the training epoch models are stored."
   ]
  },
  {
   "cell_type": "code",
   "execution_count": 8,
   "metadata": {
    "collapsed": false,
    "scrolled": true
   },
   "outputs": [],
   "source": [
    "NUM_EPISODE = 150\n",
    "NUM_EXPLORATION_STEP = NUM_EPISODE * 15\n",
    "EPSILON_RANGE = [0.2, 0.01] \n",
    "ALPHA_RANGE =  [0.01, 0.1, 1, 10, 100] # Constant over one epoch ##0.01, \n",
    "NUM_HIDDEN_NEURON_RANGE = [100, 200, 300, 400, 500, 600] # Constant over one epoch\n",
    "STEP_MEM_RANGE = np.arange(1, 8) # Constant over one epoch\n",
    "\n",
    "SAVE_PATH = path.join(path.expanduser(\"~\"), \"RL_Saves\")\n",
    "try: makedirs(SAVE_PATH)\n",
    "except OSError: \n",
    "    if not path.isdir(SAVE_PATH): raise"
   ]
  },
  {
   "cell_type": "markdown",
   "metadata": {},
   "source": [
    "#### Train Model"
   ]
  },
  {
   "cell_type": "code",
   "execution_count": null,
   "metadata": {
    "collapsed": false
   },
   "outputs": [],
   "source": [
    "# Init epoch overview\n",
    "epoch_account = {}\n",
    "\n",
    "# Set output file\n",
    "dqn_stats_file = path.join(SAVE_PATH, \"DQN_Stats.json\")\n",
    "\n",
    "# Apply brute force parameter space exploration\n",
    "for ALPHA in ALPHA_RANGE:\n",
    "    for STEP_MEM in STEP_MEM_RANGE:\n",
    "        for NUM_HIDDEN_NEURON in NUM_HIDDEN_NEURON_RANGE:\n",
    "            # Initialize model\n",
    "            try: model = _create_network() \n",
    "            except Exception: continue\n",
    "\n",
    "            # Create model id\n",
    "            EPOCH = '_'.join([repr(ALPHA), repr(STEP_MEM), str(NUM_HIDDEN_NEURON), INITIALIZATION, ACTIVATION, str(round(GAMMA, 2))])\n",
    "\n",
    "            # Train model / Play epoch\n",
    "            stats = dqn_3(model) # , render=True\n",
    "\n",
    "            # Calculate cumulative epoch statistics\n",
    "            highest_reward = max([ v[0] for v in stats.values() ])\n",
    "            success_episodes = sum([ v[1] for v in stats.values() ])\n",
    "            solved_episodes = sum([ v[2] for v in stats.values() ])\n",
    "\n",
    "            # Visualize\n",
    "            stdout.write(\"\\rEpoch {}, Maximum Reward {}, Successful Episodes {}, Solved Episodes {}\".format(\\\n",
    "                EPOCH, highest_reward, success_episodes, solved_episodes))\n",
    "\n",
    "            ###NEW Write down working settings\n",
    "            if success_episodes > 0: \n",
    "                epoch_account[EPOCH] = [highest_reward, success_episodes, solved_episodes]\n",
    "                with open(dqn_stats_file, \"a\") as outfile: json.dump(epoch_account, outfile)            "
   ]
  },
  {
   "cell_type": "markdown",
   "metadata": {},
   "source": [
    "#### Interpreting the Results\n",
    "\n",
    "Having sent the `.json` files back on my local machine, and when trying to `json.load` the resulting `.json` file, I realize that I had made a mistake when saving the results in this form: I am not having a single json, but a multitude of them. Since I do not want to loose the results and rerun everything, I need to implement a function in order to extract the results properly:"
   ]
  },
  {
   "cell_type": "code",
   "execution_count": 11,
   "metadata": {
    "collapsed": false
   },
   "outputs": [],
   "source": [
    "def jsonToDict(jsonFile):\n",
    "    # Open file\n",
    "    with open(jsonFile, 'r') as f: contents = f.read()\n",
    "    \n",
    "    # Produce json list\n",
    "    records = []\n",
    "    while True:\n",
    "        start = contents.find('{')\n",
    "        end = contents.find('}')\n",
    "        records.append(contents[start:end])       \n",
    "        contents = contents[end+1:]\n",
    "        if end < 0: break\n",
    "    \n",
    "    # Produce intermediate dictionary\n",
    "    intermediate_stats = {}\n",
    "    # Loop through json list\n",
    "    for r in records:\n",
    "        start = r.find('\"')\n",
    "        end = r[start+1:].find('\"')\n",
    "        key =  r[start+1:end+2] \n",
    "        # Re-organize key-value pairs in case of valid key\n",
    "        if len(key) > 0:\n",
    "            valueRaw = r[r.find('[')+1:r.find(']')].split(',')\n",
    "            valueList = [ float(vf) for vf in [ vr.strip() for vr in valueRaw ] if len(vf) > 0 ]\n",
    "            try: \n",
    "                if valueList not in intermediate_stats[key]: intermediate_stats[key].append(valueList) \n",
    "            except KeyError: intermediate_stats[key] = [valueList]\n",
    "    \n",
    "    # Produce final dictionary with summary metrics for every key\n",
    "    stats = {}\n",
    "    for k, v in intermediate_stats.iteritems():\n",
    "        num_trials = len(v)\n",
    "        avg_reward = sum([ subv[0] for subv in v ]) / num_trials\n",
    "        avg_success = sum([ subv[1] for subv in v ]) / num_trials\n",
    "        sum_solved = int(sum([ subv[2] for subv in v ]))\n",
    "        stats[k] = [avg_reward, avg_success, sum_solved, num_trials]\n",
    "\n",
    "    return stats"
   ]
  },
  {
   "cell_type": "markdown",
   "metadata": {},
   "source": [
    "#### Identify working parameter settings\n",
    "\n",
    "Now I am ready to find parameter settings where the problem was solved:"
   ]
  },
  {
   "cell_type": "code",
   "execution_count": 71,
   "metadata": {
    "collapsed": false
   },
   "outputs": [
    {
     "name": "stdout",
     "output_type": "stream",
     "text": [
      "Solved! | 0.01_6_200_glorot_uniform_relu_0.99 | [186.83053538728421, 13.0, 1, 2]\n",
      "Solved! | 0.01_6_400_glorot_uniform_relu_0.99 | [121.41997221106126, 17.0, 1, 2]\n"
     ]
    }
   ],
   "source": [
    "dqn_stats_file = path.join(SAVE_PATH, \"DQN_Stats.json\")\n",
    "for k, v in jsonToDict(dqn_stats_file).iteritems():\n",
    "    if v[2] > 0: print \"Solved! | {} | {}\".format(k, v)"
   ]
  },
  {
   "cell_type": "markdown",
   "metadata": {},
   "source": [
    "Obviously, an learning rate of 0.01 in combination with a memory of 6 frames leads to very good results. I just need to decide if I choose a hidden layer of 200 or 400.\n",
    "\n",
    "The remaining step is a long-term trial, where I will save (and afterwards: load) the weights periodically with the built-in Keras functions `model.save_weights(), model.load_weights()`."
   ]
  },
  {
   "cell_type": "markdown",
   "metadata": {
    "collapsed": true
   },
   "source": [
    "# Algorithms 2 & 3: Policy Gradients: Monte-Carlo, Action-Value Actor-Critic\n",
    "\n",
    "\n",
    "## A Methododical Overview\n",
    "\n",
    "So far, I have performed *Value-based Reinforcement Learning* by trying to find the maximum value over all possible actions in a given state. The policy thereby was generated from the value function. Another approach would be to directly parametrize the policy.\n",
    "\n",
    "Both approaches have pros and cons. Policy-based RL has better convergence properties. It does not need a maximum value, which is of great interest in continuous action spaces. On the other hand, policy-based RL often converges towards local in stead of global optima, and they suffer from high variance.\n",
    "\n",
    "### Taking An Action\n",
    "\n",
    "The agent faces the decision of taking one of the available actions at every step `t`. When applying a policy gradient model, the agent estimates which move is most likely to lead to a good end / a high reward: It assigns probabilities to every action. In order to accomplish this, I need a first ANN block, which outputs probabilities / uses a softmax at the output layer. It is called the *policy estimator*.\n",
    "\n",
    "After the estimation, it samples uniformly from the probability distribution in order to get an action, and observes / learns from the consequences of the action.\n",
    "\n",
    "### Evaluating An Action\n",
    "\n",
    "An example for *Policy-based RL* is the *Monte-Carlo Policy Gradient* algorithm, which is also known as REINFORCE. It is the first example I am presenting here. \n",
    "\n",
    "The basic principle of the REINFORCE algorithm is to sample from the action-value function q by using the collected returns of a full episode: After each episode, the algorithm runs through each time step again\n",
    "- calculates the *target* (a value function), which is the total discounted reward after a specific step, representing a sample of the action-value function\n",
    "- multiplies the *target* with the score function at each time step to get the gradient. The score function is the negative log probability of the chosen action.\n",
    "\n",
    "It is important to see that during the trajectory (the time steps of an episode), the transitions are collected for the later adaption of the policy after the episode.\n",
    "\n",
    "In order to reduce the high variance of the method, it is common to subtract a baseline function `B(s)` from the target. Over all states `s` in the state space `S`, the expectation of the policy gradient is still 0, so expectations do not change. \n",
    "\n",
    "Instead of the target, I now multiply the score with the `advantage` function, which is simply the target minus the baseline. A suitable baseline is the *state value function*, which is a value function estimate. For this, I need a second ANN block, the so called *value estimator*, outputting a regression estimate by applying a mean squared error loss function.\n",
    "\n",
    "Intuitively, the `advantage` captures how much better than expected the action at time step `t` was doing.\n",
    "\n",
    "Another method to reduce the variance is to replace the Monte-Carlo Policy Gradient by an Actor-Critic algorithm. The last presented algorithm, the *Action-Value (or Q) Actor-Critic* algorithm belongs to this family.\n",
    "\n",
    "Actor-critic are a mix between value based and policy based frameworks. The actor is taking the action, the critic is evaluating the action. In contrast to REINFORCE, the latter is done during the episode. This bootstrapping from the value function leads to lower variance, but also to higher bias, compared with REINFORCE.\n",
    "\n",
    "The target / value function for Q Actor-Critic algorithms is the estimated cumulated reward, which consists of the actual reward at `s_t` plus a discounted estimated reward for the action at `s_t1`: `target = r_t + GAMMA * Q_sa`. \n",
    "\n",
    "Again, value function estimate is subtracted from the target. The resulting `advantage` is then multiplied with the score function.\n",
    "\n",
    "It is now time to implement the model and testing routines:\n",
    "\n",
    "#### Extend Namespace"
   ]
  },
  {
   "cell_type": "code",
   "execution_count": 9,
   "metadata": {
    "collapsed": true
   },
   "outputs": [],
   "source": [
    "from keras.engine import training\n",
    "import tensorflow as tf"
   ]
  },
  {
   "cell_type": "markdown",
   "metadata": {},
   "source": [
    "#### Extend Hyperparameters"
   ]
  },
  {
   "cell_type": "code",
   "execution_count": 10,
   "metadata": {
    "collapsed": false,
    "scrolled": true
   },
   "outputs": [],
   "source": [
    "# Choose a smaller number of episodes\n",
    "NUM_EPISODE = 25\n",
    "NUM_HIDDEN_NEURON_RANGE = [100, 200, 300, 400, 500, 600] \n",
    "STEP_MEM_RANGE = [1, 2, 3, 4, 5, 6, 7, 8] \n",
    "# Select all available initializations and activations of Keras\n",
    "INITIALIZATIONS = ['normal', 'he_normal', 'glorot_uniform', 'uniform', 'lecun_uniform', 'identity', 'orthogonal', 'zero', 'glorot_normal', 'he_uniform']\n",
    "ACTIVATIONS = ['softplus', 'softsign', 'relu', 'tanh', 'sigmoid', 'hard_sigmoid', 'linear'] "
   ]
  },
  {
   "cell_type": "markdown",
   "metadata": {},
   "source": [
    "#### Build Keras Models\n",
    "\n",
    "I now recreate the `_create_network` function in order to obtain two different estimators: one for the policy, one for the value. I will use a different set of initializations as well as hidden layer activations for the two models. The policy estimator has a softmax activation for the output layer, the value estimator a linear activation."
   ]
  },
  {
   "cell_type": "code",
   "execution_count": 10,
   "metadata": {
    "collapsed": true
   },
   "outputs": [],
   "source": [
    "def _create_network(model_type): \n",
    "    model = Sequential()\n",
    "    \n",
    "    if model_type == 'value':\n",
    "        # Regression function estimate for calculating the advantage\n",
    "        model.add(Dense(NUM_HIDDEN_NEURON, init=INITIALIZATION_V, input_dim=STEP_MEM*NUM_INPUT)) \n",
    "        model.add(Activation(ACTIVATION_V))\n",
    "        model.add(Dense(1, init=INITIALIZATION_V))\n",
    "        model.compile(optimizer='rmsprop', loss='mse')\n",
    "    \n",
    "    if model_type == 'policy':\n",
    "        model.add(Dense(NUM_HIDDEN_NEURON, init=INITIALIZATION_P, input_dim=STEP_MEM*NUM_INPUT)) \n",
    "        model.add(Activation(ACTIVATION_P))\n",
    "        model.add(Dense(NUM_ACTION, init=INITIALIZATION_P))\n",
    "        model.add(Activation('softmax'))\n",
    "        model.compile(optimizer='rmsprop', loss='categorical_crossentropy', metrics=['accuracy'])\n",
    "    \n",
    "    return model"
   ]
  },
  {
   "cell_type": "markdown",
   "metadata": {},
   "source": [
    "#### Build Helper Function for Non-Standard Gradient Estimation\n",
    "\n",
    "In order to the model the non-standard gradients in Keras, I needed to implement a helper function `get_trainable_params`, as proposed by [these](https://github.com/fchollet/keras/issues/3062) helpful minds. A big thank you for that! Getting the gradients subsequently is relying directly on TensorFlow, applying `tf.gradients()`."
   ]
  },
  {
   "cell_type": "code",
   "execution_count": 11,
   "metadata": {
    "collapsed": true
   },
   "outputs": [],
   "source": [
    "def get_trainable_params(model):\n",
    "    params = []\n",
    "    for layer in model.layers:\n",
    "        params += training.collect_trainable_weights(layer)\n",
    "    return params"
   ]
  },
  {
   "cell_type": "markdown",
   "metadata": {},
   "source": [
    "#### Build Training Epochs"
   ]
  },
  {
   "cell_type": "code",
   "execution_count": 11,
   "metadata": {
    "collapsed": true
   },
   "outputs": [],
   "source": [
    "def monte_carlo_policy_gradient(model_v, model_p, render=False): \n",
    "    # Init epoch stats\n",
    "    stats = {}\n",
    "    \n",
    "    # Play through episodes\n",
    "    for episode in range(NUM_EPISODE): \n",
    "        # Init episode transitions & stats\n",
    "        transitions = []\n",
    "        stats[episode] = [0]*3\n",
    "        \n",
    "        # Init observations\n",
    "        x_t = ENV.reset()\n",
    "        s_t = np.tile(x_t, STEP_MEM)\n",
    "        done = False\n",
    "\n",
    "        # Start an episode\n",
    "        for step in count():\n",
    "            \n",
    "            # Reset the environment for a new gaming step\n",
    "            if render: ENV.render()\n",
    "            \n",
    "            # Estimate probabilities for each possible action\n",
    "            probs = model_p.predict(s_t[np.newaxis])[0]\n",
    "            \n",
    "            # Take an action: Sample an action from the probabilities distribution\n",
    "            a_t = np.random.choice(ACTIONS, p=probs)\n",
    "            \n",
    "            # Observe after action a_t\n",
    "            x_t, r_t, done, info = ENV.step(a_t)\n",
    "            \n",
    "            # Create state at t1: Append x observations, throw away the earliest\n",
    "            s_t1 = np.concatenate((x_t, s_t[:(STEP_MEM-1) * NUM_INPUT,]), axis=0)\n",
    "            \n",
    "            # Keep track of the episode transition and the probability of the action taken\n",
    "            transitions.append((s_t, a_t, r_t, probs[a_t]))\n",
    "            \n",
    "            # Update statistics: Sum up rewards, count steps, successes, solved\n",
    "            stats[episode][0] += r_t\n",
    "            if r_t >= 100: stats[episode][1] += 1\n",
    "            if r_t >= 200: stats[episode][2] += 1\n",
    "                \n",
    "            # Visualize\n",
    "            stdout.write(\"\\rMCPG | {} | Step {} @ Episode {}/{}\".format(\\\n",
    "                EPOCH, step, episode, NUM_EPISODE))\n",
    "\n",
    "            # Exit episode after crash or deadlock\n",
    "            if done or step > 10000: break \n",
    "            \n",
    "            # Update state\n",
    "            s_t = s_t1\n",
    "            \n",
    "        # Update policy after each episode \n",
    "        # Low bias, high variance\n",
    "        for t, transition in enumerate(transitions):\n",
    "        \n",
    "            # Calculate target for action taken\n",
    "            # -> Total discounted reward after this step during episode\n",
    "            target = sum(GAMMA**i * j[2] for i, j in enumerate(transitions[t:])) \n",
    "\n",
    "            # Update value estimator\n",
    "            model_v.fit(transition[0][np.newaxis], np.asarray([target]), verbose=0)\n",
    "\n",
    "            # Estimate baseline for action taken\n",
    "            baseline = model_v.predict(transition[0][np.newaxis])[0][0]\n",
    "\n",
    "            # Calculate advantage for action taken\n",
    "            advantage = target - baseline\n",
    "\n",
    "            # Caluculate loss\n",
    "            loss = -np.log(transition[3]) * advantage\n",
    "            \n",
    "            # Update policy estimator\n",
    "            network_params = get_trainable_params(model_p)\n",
    "            param_grad = tf.gradients(loss, network_params)\n",
    "    \n",
    "    return stats"
   ]
  },
  {
   "cell_type": "code",
   "execution_count": 12,
   "metadata": {
    "collapsed": false
   },
   "outputs": [],
   "source": [
    "def q_actor_critic(model_v, model_p, render=False): \n",
    "    # Init epoch stats\n",
    "    stats = {}\n",
    "\n",
    "    # Play through episodes\n",
    "    for episode in range(NUM_EPISODE): \n",
    "        # Init episode stats\n",
    "        stats[episode] = [0]*3 + [1]\n",
    "        \n",
    "        # Init observations\n",
    "        x_t = ENV.reset()\n",
    "        s_t = np.tile(x_t, STEP_MEM)\n",
    "        done = False\n",
    "        \n",
    "        # Start an episode\n",
    "        for step in count():\n",
    "            \n",
    "            # Reset the environment for a new gaming step\n",
    "            if render: ENV.render()\n",
    "\n",
    "            # Estimate probabilities for each possible action\n",
    "            probs = model_p.predict(s_t[np.newaxis])[0]\n",
    "            \n",
    "            # Take an action: Sample an action from the returned probabilities distribution\n",
    "            a_t = np.random.choice(ACTIONS, p=probs)\n",
    "\n",
    "            # Observe after action a_t\n",
    "            x_t, r_t, done, info = ENV.step(a_t)\n",
    "            \n",
    "            # Create state at t1: Append x observations, throw away the earliest\n",
    "            s_t1 = np.concatenate((x_t, s_t[:(STEP_MEM-1) * NUM_INPUT,]), axis=0)\n",
    "\n",
    "            # Bootstrapping from a value function during the episode: high bias, low variance\n",
    "            # Calculate target for action taken\n",
    "            # -> Reward for action taken at s_t1\n",
    "            Q_sa = model_v.predict(s_t1[np.newaxis])[0][0]\n",
    "            target = r_t + GAMMA * Q_sa\n",
    "\n",
    "            # Update value estimator\n",
    "            model_v.fit(s_t[np.newaxis], np.asarray([target]), verbose=0)\n",
    "\n",
    "            # Estimate baseline for action taken\n",
    "            baseline = model_v.predict(s_t[np.newaxis])[0][0]\n",
    "\n",
    "            # Calculate advantage for action taken\n",
    "            advantage = target - baseline\n",
    "\n",
    "            # Caluculate loss\n",
    "            loss = -np.log(probs[a_t]) * advantage\n",
    "\n",
    "            # Update policy estimator\n",
    "            network_params = get_trainable_params(model_p)\n",
    "            param_grad = tf.gradients(loss, network_params)\n",
    "            \n",
    "            # Update statistics: Sum up rewards, count steps, successes, solved, measure episode length\n",
    "            stats[episode][0] += r_t\n",
    "            if r_t >= 100: stats[episode][1] += 1\n",
    "            if r_t >= 200: stats[episode][2] += 1\n",
    "            stats[episode][3] = step\n",
    "\n",
    "            # Visualize\n",
    "            stdout.write(\"\\rQAC | {} | Step {} @ Episode {}/{}\".format(\\\n",
    "                EPOCH, step, episode, NUM_EPISODE))\n",
    "\n",
    "            # Exit episode after crash or deadlock\n",
    "            if done or step > 10000: break \n",
    "\n",
    "            # Update state\n",
    "            s_t = s_t1\n",
    "            \n",
    "    return stats"
   ]
  },
  {
   "cell_type": "markdown",
   "metadata": {},
   "source": [
    "\n",
    "#### Train Model\n",
    "\n",
    "Back again to the training ground. One thing turned out quite quickly: `import tensorflow` restricts execution of the policy gradient epochs to UNIX machines, so my Win server is out of play. Full of faith I went back to the AWS *large* instance, but soon got disappointed with the speed. Clearly, CPU power alone does not bring me far in this setting. \n",
    "\n",
    "So, I sat down and studied on how to set up the TensorFlow backend onto a GPU, extending my set-up shell script with GPU related installation routines, downloading *cuda* and *cudnn* drivers.\n",
    "\n",
    "At the end, I gave up, seemingly a short distance from the finishing line, but rather fed up for the time being. I subscribed to a *Bitfusion Ubuntu 14 TensorFlow* on AWS Marketplace, with all dependencies preinstalled, except for Open AI Gym. So much time saved!\n",
    "\n",
    "As I already noticed while setting up Ubuntu instances from scratch, resetting/rendering Open AI gym on Ubuntu 16 is feasible as soon as establishing a virtual frame buffer via `xvfb-run -s \"-screen 0 1400x900x24\" /bin/bash`. On Ubuntu 14, this trick does not work. After many attempts and eventually reading the stack trace carefully, I found that commenting out the import of anyway unused enviroments in `/gym/gym/envs/box2d/__init__.py` lets me reset the Lunar Lander environment, but not render it. With this, I can live.\n",
    "\n",
    "My now much simplified cook book for spinning up the instance and operating on it is the following `.sh` file:\n",
    "\n",
    "\n",
    "    ## AWS Marketplace\n",
    "    ## Bitfusion Ubuntu 14 Tensorflow - Ubuntu 14.04 LTS (GNU/Linux 3.13.0-95-generic x86_64)\n",
    "    ## awsmrkt-bfboost-ubuntu14-cuda75-tensorflow-2016-09-13-130716-dd1e96f9-9ede-4ff5-be40-3419bfca03a3-ami-ac4635bb.3 (ami-94b14cfb)\n",
    "\n",
    "    ## GO TO SERVER\n",
    "    ssh -i \"my_aws_keys.pem\" ubuntu@ec2-35-156-49-218.eu-central-1.compute.amazonaws.com\n",
    "\n",
    "    # Install the basics\n",
    "    sudo apt-get update\n",
    "    sudo apt-get upgrade\n",
    "    sudo pip install --upgrade pip\n",
    "    sudo apt-get install -y python-numpy python-dev cmake zlib1g-dev libjpeg-dev xvfb libav-tools xorg-dev python-opengl libboost-all-dev\n",
    "    \n",
    "    # Install the proper swig for Box2D to work\n",
    "    sudo apt-get install swig3.0\n",
    "    sudo rm /usr/bin/swig\n",
    "    sudo ln -s /usr/bin/swig3.0 /usr/bin/swig\n",
    "    \n",
    "    # Re-install Box2D\n",
    "    sudo pip uninstall box2d-py\n",
    "    git clone https://github.com/pybox2d/pybox2d.git\n",
    "    cd pybox2d\n",
    "    sudo python setup.py clean\n",
    "    sudo python setup.py build\n",
    "    sudo python setup.py install\n",
    "    \n",
    "    # Install Gym\n",
    "    cd ~\n",
    "    git clone https://github.com/openai/gym.git\n",
    "    cd gym\n",
    "    sudo pip install -e '.[all]'\n",
    "\n",
    "    # Modify the Box2D init in the Gym envs\n",
    "    cd ~\n",
    "    nano /gym/gym/envs/box2d/__init__.py\n",
    "    # comment all but lunar lander out\n",
    "\n",
    "    ## GO TO LOCAL\n",
    "    # Send files to server\n",
    "    scp -i my_aws_keys.pem ~/CloudStation/Hack/Python/Udacity/MLE/06P_Capstone/04_DQN_PG/Capstone__Reinforcement_Learning.ipynb ubuntu@ec2-35-156-49-218.eu-central-1.compute.amazonaws.com:~/pynb/Capstone__Reinforcement_Learning.ipynb\n",
    "\n",
    "    ## GO TO SERVER\n",
    "    # Start notebook\n",
    "    cd pynb\n",
    "    jupyter notebook\n",
    "    #xvfb-run -s \"-screen 0 1400x900x24\" /bin/bash\n",
    "    # run without render()\n",
    "\n",
    "    ## GO TO LOCAL\n",
    "    # Open notebook (NOT IN SAFARI; use instance ID as password)\n",
    "    http://ec2-35-156-49-218.eu-central-1.compute.amazonaws.com:8888\n",
    "\n",
    "    # Send files to local\n",
    "    scp -i my_aws_keys.pem ubuntu@ec2-35-156-49-218.eu-central-1.compute.amazonaws.com:~/pynb/Capstone__Reinforcement_Learning.ipynb ~/CloudStation/Hack/Python/Udacity/MLE/06P_Capstone/04_DQN_PG/Capstone__Reinforcement_Learning.ipynb"
   ]
  },
  {
   "cell_type": "code",
   "execution_count": null,
   "metadata": {
    "collapsed": false
   },
   "outputs": [],
   "source": [
    "# Init epoch overview\n",
    "epoch_account = {}\n",
    "\n",
    "# Set output files\n",
    "stats_files = [path.join(SAVE_PATH, \"MCPG_Stats.json\"), path.join(SAVE_PATH, \"QAC_Stats.json\")]\n",
    "\n",
    "# Apply brute force parameter space exploration\n",
    "for n in range(2):\n",
    "    for STEP_MEM in STEP_MEM_RANGE:\n",
    "        for NUM_HIDDEN_NEURON in NUM_HIDDEN_NEURON_RANGE:\n",
    "            for INITIALIZATION_V in INITIALIZATIONS:\n",
    "                for ACTIVATION_V in ACTIVATIONS:\n",
    "                    for INITIALIZATION_P in INITIALIZATIONS:\n",
    "                        for ACTIVATION_P in ACTIVATIONS:\n",
    "                            # Initialize models\n",
    "                            try: model_v, model_p = _create_network('value'), _create_network('policy') \n",
    "                            except Exception: continue\n",
    "\n",
    "                            # Create model id\n",
    "                            EPOCH = '_'.join([repr(STEP_MEM), str(NUM_HIDDEN_NEURON), INITIALIZATION_V, INITIALIZATION_P, ACTIVATION_V, ACTIVATION_P])\n",
    "\n",
    "                            # Train model / Play epoch\n",
    "                            double_stats = (monte_carlo_policy_gradient(model_v, model_p), q_actor_critic(model_v, model_p))\n",
    "\n",
    "                            for i, stats in enumerate(double_stats):\n",
    "                                # Calculate cumulative epoch statistics\n",
    "                                highest_reward = max([ v[0] for v in stats.values() ])\n",
    "                                success_episodes = sum([ v[1] for v in stats.values() ])\n",
    "                                solved_episodes = sum([ v[2] for v in stats.values() ])\n",
    "\n",
    "                                # Visualize\n",
    "                                stdout.write(\"\\rEpoch {}, Maximum Reward {}, Successful Episodes {}, Solved Episodes {}\".format(\\\n",
    "                                    EPOCH, highest_reward, success_episodes, solved_episodes))\n",
    "\n",
    "                                # Write down working settings\n",
    "                                if success_episodes > 0: \n",
    "                                    epoch_account[EPOCH] = [highest_reward, success_episodes, solved_episodes]\n",
    "                                    with open(stats_files[i], \"a\") as outfile: json.dump(epoch_account, outfile)    "
   ]
  },
  {
   "cell_type": "markdown",
   "metadata": {},
   "source": [
    "Uff. This is taking an eternity, a single g2 instance is obviously not enough. On the fly, I decided to check out Activation and Initialization combinations, non-exhaustively.\n",
    "\n",
    "#### Identify working parameter settings for activation and initialization combinations"
   ]
  },
  {
   "cell_type": "code",
   "execution_count": 68,
   "metadata": {
    "collapsed": false
   },
   "outputs": [
    {
     "name": "stdout",
     "output_type": "stream",
     "text": [
      "/Users/matthiaswettstein/RL_Saves/MCPG_Stats.json | ('5_200_normal_normal_softplus_softsig', -7.553130756059716, 5.0)\n",
      "/Users/matthiaswettstein/RL_Saves/QAC_Stats.json | ('1_200_he_uniform_he_uniform_softplus_softplus', -8.638336724713128, 7.0)\n"
     ]
    }
   ],
   "source": [
    "for stats_file in stats_files:\n",
    "    best_trial = ('NA', -10000, 0)\n",
    "    for k, v in jsonToDict(stats_file).iteritems():\n",
    "        if v[2] > 0: print \"Solved!: {} | {} | {}\".format(stats_file, k, v)\n",
    "        if v[1] > best_trial[2] and v[0] > best_trial[1]: best_trial = (k, v[0], v[1])\n",
    "    print stats_file+\" | \"+str(best_trial)          "
   ]
  },
  {
   "cell_type": "markdown",
   "metadata": {},
   "source": [
    "The take away from these trials: \n",
    "- No solved environment so far.\n",
    "- for Monte Carlo I will use \n",
    "    - normal as initialization and softplus for the value estimate\n",
    "    - normal as initialization and softsig for the policy estimate\n",
    "- for Actor-Critic I will use he_uniform as initialization and softplus, regardless the estimate\n",
    "\n",
    "In a second step, I laid aside Monte-Carlo algorithm, just to concentrate on one single task when doing extensive final testing.\n",
    "For the Actor-Critic algoritm, I fiddled around with `NUM_HIDDEN_NEURON` and `STEP_MEM`:"
   ]
  },
  {
   "cell_type": "code",
   "execution_count": 69,
   "metadata": {
    "collapsed": false
   },
   "outputs": [
    {
     "name": "stdout",
     "output_type": "stream",
     "text": [
      "/Users/matthiaswettstein/RL_Saves/QAC_Stats_V2.json | ('1_600_he_uniform_he_uniform_softplus_softplus', -21.99401980452734, 3.0)\n"
     ]
    }
   ],
   "source": [
    "# Set output files\n",
    "stats_file = path.join(SAVE_PATH, \"QAC_Stats_V2.json\")\n",
    "\n",
    "best_trial = ('NA', -10000, 0)\n",
    "for k, v in jsonToDict(stats_file).iteritems():\n",
    "    if v[2] > 0: print \"Solved!: {} | {} | {}\".format(stats_file, k, v)\n",
    "    if v[1] > best_trial[2] and v[0] > best_trial[1]: best_trial = (k, v[0], v[1])\n",
    "print stats_file+\" | \"+str(best_trial) "
   ]
  },
  {
   "cell_type": "markdown",
   "metadata": {},
   "source": [
    "So, I decided to go for the ultimate run upon a large number of episodes with \n",
    "- `he_uniform` initializations for both value and policy estimator,\n",
    "-  `softplus` activations for both value and policy estimator,\n",
    "- a step memory of 1 single step, \n",
    "- a hidden layer with 600 neurons.\n",
    "\n",
    "For this ultimate run, I got in contact with the [Bitfusion](http://www.bitfusion.io/documentation-boost-aws/) guys, who made me aware on how to boost performance by using p2 instances and \n",
    "\n",
    ">distribute your GPU accelerated application across multiple GPU instance without having to change your code or having to do any complicated cluster setup.\n",
    "\n",
    "This is exactly what I needed: no re-writing TensorFlow, no complicated set-up on bare-metal servers. \n",
    "\n",
    "I thought. In reality, I almost gave up on configuring Box2D, a dependency of Open AI Gym Lunar Lander environment. For whatever reason, my above-mentioned set-up script did not do the job anymore: Resetting the Lunar Lander env was not possible. It always had been a hassle to bring this software to work, and I am not the only one on this. Salvation came when I deinstalled the pip version of Box2D explicitly, and re-installed Box2D from source, as indicated [here](https://github.com/openai/gym/issues/100).\n",
    "\n",
    "So eventually I could run the instance again (I have altered the shell script accordingly). After a while, it turned out that I had not chosen the \"boost\" version of the product, so it ran on one instance still."
   ]
  },
  {
   "cell_type": "code",
   "execution_count": 13,
   "metadata": {
    "collapsed": false
   },
   "outputs": [
    {
     "name": "stdout",
     "output_type": "stream",
     "text": [
      "QAC | 1_600_he_uniform_he_uniform_softplus_softplus | Step 64 @ Episode 999/1000"
     ]
    }
   ],
   "source": [
    "NUM_EPISODE = 1000\n",
    "NUM_HIDDEN_NEURON = 600\n",
    "STEP_MEM = 1\n",
    "INITIALIZATION_V = 'he_uniform'\n",
    "INITIALIZATION_P = 'he_uniform'\n",
    "ACTIVATION_V = 'softplus'\n",
    "ACTIVATION_P = 'softplus'\n",
    "\n",
    "# Init epoch overview\n",
    "epoch_account = {}\n",
    "\n",
    "# Set output files\n",
    "stats_file = path.join(SAVE_PATH, \"QAC_Stats.json\")\n",
    "\n",
    "model_v, model_p = _create_network('value'), _create_network('policy') \n",
    "\n",
    "# Create model id\n",
    "EPOCH = '_'.join([repr(STEP_MEM), str(NUM_HIDDEN_NEURON), INITIALIZATION_V, INITIALIZATION_P, ACTIVATION_V, ACTIVATION_P])\n",
    "\n",
    "# Train model / Play epoch\n",
    "stats = q_actor_critic(model_v, model_p)\n",
    "with open(path.join(SAVE_PATH, \"QAC_long_epoch_stats.json\"), \"a\") as outfile: json.dump(stats, outfile) "
   ]
  },
  {
   "cell_type": "markdown",
   "metadata": {},
   "source": [
    "#### Svaing and plotting the learning progress\n",
    "\n",
    "Note that during the test run, I additionally tracked the average return per episode over the full epoch. Now it is time to display the learning progress with increasing number of episodes:"
   ]
  },
  {
   "cell_type": "code",
   "execution_count": 111,
   "metadata": {
    "collapsed": false
   },
   "outputs": [
    {
     "name": "stdout",
     "output_type": "stream",
     "text": [
      "Number of successful episodes: 85\n",
      "Number of solved episodes: 0\n"
     ]
    },
    {
     "data": {
      "text/plain": [
       "<matplotlib.text.Text at 0x115e83150>"
      ]
     },
     "execution_count": 111,
     "metadata": {},
     "output_type": "execute_result"
    },
    {
     "data": {
      "image/png": "[encoded data removed]",
      "text/plain": [
       "<matplotlib.figure.Figure at 0x1149e8090>"
      ]
     },
     "metadata": {},
     "output_type": "display_data"
    }
   ],
   "source": [
    "# Extend namespace\n",
    "%matplotlib inline\n",
    "import matplotlib.pyplot as plt\n",
    "\n",
    "# Read in epoch statistics\n",
    "    # 1: summed up episode reward\n",
    "    # 2: # successes\n",
    "    # 3: # solved\n",
    "    # 4: # episode steps\n",
    "with open(path.join(SAVE_PATH, \"QAC_long_epoch_stats.json\")) as json_file: \n",
    "    epoch_stats = json.load(json_file)\n",
    "\n",
    "# Calculate epoch statistics\n",
    "episodes = sorted([ int(k)+1 for k, v in epoch_stats.items() ])\n",
    "success_episodes = [ v[1] for k, v in epoch_stats.items() ]\n",
    "solved_episodes = [ v[2] for k, v in epoch_stats.items() ]\n",
    "\n",
    "# Show success\n",
    "print \"Number of successful episodes: {}\".format(sum(success_episodes))\n",
    "print \"Number of solved episodes: {}\".format(sum(solved_episodes))\n",
    "\n",
    "# Calculate cumulative epoch statistics\n",
    "average_episode_rewards = [ v[0] / v[3] for k, v in epoch_stats.items() ]\n",
    "cumulative_success_episodes = 0\n",
    "cumulative_success_episodes_list = []\n",
    "for success_episode in success_episodes:\n",
    "    cumulative_success_episodes += success_episode\n",
    "    cumulative_success_episodes_list.append(cumulative_success_episodes)\n",
    "    \n",
    "# Track cumulative epoch statistics\n",
    "fontsize = 14\n",
    "plt.figure(1, figsize=(18,18), dpi=320)\n",
    "\n",
    "plt.subplot(2,1,1) # numrows, numcols, fignum, where fignum ranges from 1 to numrows*numcols\n",
    "plt.plot(episodes, average_episode_rewards, color='blue')\n",
    "plt.xlabel(\"Episodes\", fontsize=fontsize)\n",
    "plt.ylabel(\"QAC: \"+'Average Reward', fontsize=fontsize)\n",
    "\n",
    "plt.subplot(2,1,2) \n",
    "plt.plot(episodes, cumulative_success_episodes_list, color='red')\n",
    "plt.xlabel(\"Episodes\", fontsize=fontsize)\n",
    "plt.ylabel(\"QAC: \"+'# Successes', fontsize=fontsize)"
   ]
  },
  {
   "cell_type": "markdown",
   "metadata": {},
   "source": [
    "From what I can see, I was not able to train the Action-Value Actor-Critic algorithm to get to any solved state. Indeed, the average reward remains stable over the episodes (plot 1), without any visible improvement over time. There are at least successful episodes. Looking at the cumulative number of successful episodes (plot 2), there seem to be more  Shortly before episode 800, I observe more frequent successes, but the curve flattens out afterwards, so there cannot be a notion of continuous improvement. \n",
    "\n",
    "Maybe 1'000 episodes are not enough for a proper learning taking place. But to be honest, I tried with 2'000 episodes, only to discover that the kernel had died shortly before the end of the procedure and saving the statistics away. \n",
    "\n",
    "# Conclusions and Outlook\n",
    "\n",
    "This has been a story about hands-on implementations of Reinforcement Learning algorithms.\n",
    "\n",
    "I have been working on Reinforcement Learning for more than 4 months now, starting in August 2016. It has been an extremely interesting topic and a steep learning curve.\n",
    "\n",
    "I concentrated on getting the learning algorithms right, to tell a story from table lookup Q learning to more sophisticated learning. I had to learn how an Artificial Neural Net works, and I had to code it up in Keras. \n",
    "\n",
    "I was confronted with a tremendously large parameter space for ANNs, and the amount of time it takes to test parametrizations. \n",
    "\n",
    "It thus was necessary to take my steps in High Performance Computing on Amazon. First, I tried CPU only instances, then out of necessity moved to GPU instances, finding myself configuring bare metal Linux systems with all necessary libraries and drivers. Installation routines peaked in setting up GPU drivers, which was feasible, but complicated. It began to take too much time until I could even get started. So, I discovered the pre-configured instances on Amazon Marketplace, where I went for a Bitfusion installation with TensorFlow, Keras, Jupyter, and NVIDIA GPU support.\n",
    "\n",
    "Performance stayed behind my expectations though. As an outlook, I need to get the algorithm run onto multiple instances / the \"boost\" product of Bitfusion.\n",
    "\n",
    "A major hassle from start to end on Linux has been the somewhat erratic behaviour of the Box2D library with its problematic Swig dependency. This took FAR too much time and prevented me from being much more efficient doing the core job, having to troubleshoot collaterals all the time.\n",
    "\n",
    "Returning to the results, I clearly see light for Deep Q Learning, which I have elaborated step-by-step in this notebook. The missing success for Policy Gradient methods leave me with the belief that there still is optimization to be done here. \n",
    "\n",
    "*I am grateful for inputs on how to improve learning performance, especially for Policy Gradients*\n",
    "\n",
    "Without the hands on explanations and code snippets of the above-mentioned persons, I would have been lost in this topic. With them, it has been a puzzle of elements, which all of a sudden fit together well and triggered my understanding of the topic.\n",
    "\n",
    "Further steps will now include the following:\n",
    "\n",
    "- Focus on the model design / improve the Artificial Neural Nets\n",
    "- Distribute computation on multiple GPU instances without any change in the code\n",
    "- Go in for the Open AI Gym competition."
   ]
  },
  {
   "cell_type": "code",
   "execution_count": null,
   "metadata": {
    "collapsed": true
   },
   "outputs": [],
   "source": []
  }
 ],
 "metadata": {
  "anaconda-cloud": {},
  "celltoolbar": "Raw Cell Format",
  "kernelspec": {
   "display_name": "Python 2",
   "language": "python",
   "name": "python2"
  },
  "language_info": {
   "codemirror_mode": {
    "name": "ipython",
    "version": 2
   },
   "file_extension": ".py",
   "mimetype": "text/x-python",
   "name": "python",
   "nbconvert_exporter": "python",
   "pygments_lexer": "ipython2",
   "version": "2.7.12"
  }
 },
 "nbformat": 4,
 "nbformat_minor": 0
}

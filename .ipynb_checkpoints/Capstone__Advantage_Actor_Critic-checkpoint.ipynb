{
 "cells": [
  {
   "cell_type": "markdown",
   "metadata": {},
   "source": [
    "# Reinforcement Learning Part 2: Policy Gradients"
   ]
  },
  {
   "cell_type": "markdown",
   "metadata": {},
   "source": [
    "## Advantage Actor-Critic Policy Gradients"
   ]
  },
  {
   "cell_type": "code",
   "execution_count": null,
   "metadata": {
    "collapsed": false
   },
   "outputs": [],
   "source": [
    "%matplotlib inline\n",
    "\n",
    "import numpy as np\n",
    "import gym\n",
    "from keras.engine import training\n",
    "from keras.models import Sequential\n",
    "from keras.models import model_from_json\n",
    "from keras.layers import Dense, Activation\n",
    "import tensorflow as tf\n",
    "from sys import stdout\n",
    "from os import path, makedirs\n",
    "import json\n",
    "from itertools import count\n",
    "import matplotlib.pyplot as plt"
   ]
  },
  {
   "cell_type": "code",
   "execution_count": null,
   "metadata": {
    "collapsed": false
   },
   "outputs": [],
   "source": [
    "np.random.seed(0)"
   ]
  },
  {
   "cell_type": "code",
   "execution_count": null,
   "metadata": {
    "collapsed": false
   },
   "outputs": [],
   "source": [
    "ENV = gym.make(\"LunarLander-v2\")\n",
    "NUM_INPUT = ENV.reset().shape[0]\n",
    "NUM_ACTION = ENV.action_space.n\n",
    "ACTIONS = np.arange(0, NUM_ACTION)"
   ]
  },
  {
   "cell_type": "code",
   "execution_count": null,
   "metadata": {
    "collapsed": false
   },
   "outputs": [],
   "source": [
    "NUM_EPISODE = 50\n",
    " \n",
    "STEP_MEM_RANGE = np.arange(1, 7) # Constant over one epoch\n",
    "NUM_HIDDEN_NEURON_RANGE = [256] # Constant over one epoch\n",
    "INITIALIZATIONS = ['uniform', 'lecun_uniform', 'normal', 'identity', 'orthogonal', 'zero', 'glorot_normal', 'glorot_uniform', 'he_normal', 'he_uniform'] # Constant over one epoch\n",
    "ACTIVATIONS = ['softplus', 'softsign', 'relu', 'tanh', 'sigmoid', 'hard_sigmoid', 'linear'] # Constant over one epoch\n",
    "GAMMA = 0.99\n",
    " \n",
    "SAVE_PATH = path.join(path.expanduser(\"~\"), \"RL_Saves\")\n",
    "try:\n",
    "    makedirs(SAVE_PATH)\n",
    "except OSError:\n",
    "    if not path.isdir(SAVE_PATH):\n",
    "        raise"
   ]
  },
  {
   "cell_type": "markdown",
   "metadata": {},
   "source": [
    "## Policy Gradient Models: A Methododical Overview\n",
    "\n",
    "At every step, the agent faces the decision of taking one of the available actions. When applying a policy gradient model, the agent estimates which move is most likely to lead to a good end / a high reward: It assigns probabilities to every action. In order to accomplish this, we need a first ANN block, which outputs probabilities / uses a softmax at the output layer. It is called the *policy estimator*.\n",
    "\n",
    "After this, it samples uniformly from the probability distribution in order to get an action, and observes the consequences of the action. \n",
    "\n",
    "The implemented advantage actor-critic policy gradient model updates the policy in batch mode after having terminated an episode. It so to speak does a retrospection on a completed episode, with ex-post knowledge of the episode's outcome and all its moves and direct consequences.\n",
    "\n",
    "The agent therefore needs to keep track of transition ```s_t, a_t, r_t``` as well as the probability of the action taken ```probs[a_t]``` for every step ```t``` the probability during a completed episode. \n",
    "\n",
    "After having finished, the agent takes this episode experience and walks through it again step by step, computing the relevant metrics at every step ```t```.\n",
    "\n",
    "Policy gradient models operate with non-standard gradients. In general, we need a ```target``` and a ```baseline``` in order to compute the so called ```advantage```. \n",
    "\n",
    "The ```target``` component differs for the different types of policy gradient models: for advantage actor-critic models, it is the cumulated, discounted (again, with discount factor ```GAMMA```) reward for the remaining steps, at step ```t```. Computing this ex post is not difficult!\n",
    "\n",
    "The ```baseline``` is the estimate of is *estimate* of the cumulated, discounted reward for the remaining steps, at step ```t```. For this, we need a second ANN block, the so called *value estimator*, outputting a regression estimate by applying a mean squared error loss function.\n",
    "\n",
    "The ```advantage``` is nothing more than the absolute difference of the ```target``` to its estimation, the ```baseline```.  \n",
    "\n",
    "The loss at ```t``` eventually is the cross-entropy, given the probability of the action taken (```probs[a_t]```), and the ```advantage``` at ```t```.\n",
    "\n",
    "In order to the model on this loss in Keras, I needed to implement a helper function ```get_trainable_params```, as proposed by the helpful minds at https://github.com/fchollet/keras/issues/3062. A big thank you for that! Getting the gradients subsequently is relying directly on TensorFlow, applying ```tf.gradients()```.\n",
    "\n",
    "Having said all this, it is time to implement the model and testing routines:"
   ]
  },
  {
   "cell_type": "code",
   "execution_count": null,
   "metadata": {
    "collapsed": false
   },
   "outputs": [],
   "source": [
    "def _create_network(model_type): \n",
    "    model = Sequential()\n",
    "    \n",
    "    if model_type == 'value':\n",
    "        # Regression function estimate for calculating the advantage\n",
    "        model.add(Dense(NUM_HIDDEN_NEURON, init=INITIALIZATION_V, input_dim=STEP_MEM*NUM_INPUT)) \n",
    "        model.add(Activation(ACTIVATION_V))\n",
    "        model.add(Dense(1, init=INITIALIZATION_V))\n",
    "        model.compile(optimizer='rmsprop', loss='mse')\n",
    "    \n",
    "    if model_type == 'policy':\n",
    "        model.add(Dense(NUM_HIDDEN_NEURON, init=INITIALIZATION_P, input_dim=STEP_MEM*NUM_INPUT)) \n",
    "        model.add(Activation(ACTIVATION_P))\n",
    "        model.add(Dense(NUM_ACTION, init=INITIALIZATION_P))\n",
    "        model.add(Activation('softmax'))\n",
    "        model.compile(optimizer='rmsprop', loss='categorical_crossentropy', metrics=['accuracy'])\n",
    "    \n",
    "    return model"
   ]
  },
  {
   "cell_type": "code",
   "execution_count": null,
   "metadata": {
    "collapsed": true
   },
   "outputs": [],
   "source": [
    "def get_trainable_params(model):\n",
    "    params = []\n",
    "    for layer in model.layers:\n",
    "        params += training.collect_trainable_weights(layer)\n",
    "    return params"
   ]
  },
  {
   "cell_type": "code",
   "execution_count": null,
   "metadata": {
    "collapsed": false
   },
   "outputs": [],
   "source": [
    "def advantage_actor_critic(model_v, model_p, render=False): \n",
    "    # Init epoch stats\n",
    "    stats = {}\n",
    "    \n",
    "    # Play through episodes\n",
    "    for episode in range(NUM_EPISODE): \n",
    "        # Init episode transitions & stats\n",
    "        transitions = []\n",
    "        stats[episode] = [0]*3\n",
    "        \n",
    "        # Init observations\n",
    "        x_t = ENV.reset()\n",
    "        s_t = np.tile(x_t, STEP_MEM)\n",
    "        done = False\n",
    "\n",
    "        # Start an episode\n",
    "        for step in count():\n",
    "            \n",
    "            # Reset the environment for a new gaming step\n",
    "            if render: ENV.render()\n",
    "            \n",
    "            # Estimate probabilities for each possible action\n",
    "            probs = model_p.predict(s_t[np.newaxis])[0]\n",
    "            \n",
    "            # Take an action: Sample an action from the probabilities distribution\n",
    "            a_t = np.random.choice(ACTIONS, p=probs)\n",
    "            \n",
    "            # Observe after action a_t\n",
    "            x_t, r_t, done, info = ENV.step(a_t)\n",
    "            \n",
    "            # Create state at t1: Append x observations, throw away the earliest\n",
    "            s_t1 = np.concatenate((x_t, s_t[:(STEP_MEM-1) * NUM_INPUT,]), axis=0)\n",
    "            \n",
    "            # Keep track of the episode transition and the probability of the action taken\n",
    "            transitions.append((s_t, a_t, r_t, probs[a_t]))\n",
    "            \n",
    "            # Update statistics: Sum up rewards, count steps, successes, solved\n",
    "            stats[episode][0] += r_t\n",
    "            if r_t >= 100: stats[episode][1] += 1\n",
    "            if r_t >= 200: stats[episode][2] += 1\n",
    "                \n",
    "            # Visualize\n",
    "            stdout.write(\"\\r{} | Step {} @ Episode {}/{}\".format(\\\n",
    "                EPOCH, step, episode, NUM_EPISODE))\n",
    "\n",
    "            if done or step > 10000: break \n",
    "            \n",
    "            # Update state\n",
    "            s_t = s_t1\n",
    "            \n",
    "        # Update policy after each episode \n",
    "        for t, transition in enumerate(transitions):\n",
    "        \n",
    "            # Calculate target for action taken\n",
    "            # -> Total discounted reward after this step during episode\n",
    "            target = sum(GAMMA**i * j[2] for i, j in enumerate(transitions[t:])) \n",
    "\n",
    "            # Update value estimator\n",
    "            model_v.fit(transition[0][np.newaxis], np.asarray([target]), verbose=0)\n",
    "\n",
    "            # Estimate baseline for action taken\n",
    "            baseline = model_v.predict(transition[0][np.newaxis])[0][0]\n",
    "\n",
    "            # Calculate advantage for action taken\n",
    "            advantage = target - baseline\n",
    "\n",
    "            # Caluculate loss\n",
    "            loss = -np.log(transition[3]) * advantage\n",
    "            \n",
    "            # Update policy estimator\n",
    "            network_params = get_trainable_params(model_p)\n",
    "            param_grad = tf.gradients(loss, network_params)\n",
    "    \n",
    "    return stats"
   ]
  },
  {
   "cell_type": "code",
   "execution_count": null,
   "metadata": {
    "collapsed": false
   },
   "outputs": [],
   "source": [
    "STEP_MEM = 1\n",
    "NUM_HIDDEN_NEURON = 300\n",
    "INITIALIZATION_V = 'glorot_uniform'\n",
    "INITIALIZATION_P = 'glorot_uniform'\n",
    "ACTIVATION_V = 'relu'\n",
    "ACTIVATION_P = 'relu'\n",
    "\n",
    "# Create model id\n",
    "EPOCH = '_'.join([repr(STEP_MEM), str(NUM_HIDDEN_NEURON), INITIALIZATION_V, INITIALIZATION_P, ACTIVATION_V, ACTIVATION_P])\n",
    "\n",
    "# Initialize models\n",
    "try: model_v, model_p = _create_network('value'), _create_network('policy') \n",
    "except Exception: raise\n",
    "                    \n",
    "# Train model / Play epoch\n",
    "stats = advantage_actor_critic(model_v, model_p) \n",
    "\n",
    "# Calculate cumulative epoch statistics\n",
    "highest_reward = max([ v[0] for v in stats.values() ])\n",
    "success_episodes = sum([ v[1] for v in stats.values() ])\n",
    "solved_episodes = sum([ v[2] for v in stats.values() ])\n",
    "                                \n",
    "# Visualize\n",
    "stdout.write(\"\\rEpoch {}, Maximum Reward {}, Successful Episodes {}, Solved Episodes {}\".format(\\\n",
    "   EPOCH, highest_reward, success_episodes, solved_episodes))\n",
    "                        \n",
    "# Memorize\n",
    "if success_episodes > 0: \n",
    "    epoch_account[EPOCH] = [highest_reward, success_episodes, solved_episodes]\n",
    "    with open(path.join(SAVE_PATH, \"AAC_Stats.json\"), \"a\") as outfile: json.dump(epoch_account, outfile) \n",
    "            "
   ]
  },
  {
   "cell_type": "code",
   "execution_count": null,
   "metadata": {
    "collapsed": false
   },
   "outputs": [],
   "source": [
    "'''\n",
    "= # Init epoch overview\n",
    "epoch_account = {}\n",
    "\n",
    "# Apply brute force\n",
    "for STEP_MEM in STEP_MEM_RANGE:\n",
    "    for NUM_HIDDEN_NEURON in NUM_HIDDEN_NEURON_RANGE:\n",
    "        for INITIALIZATION_V in INITIALIZATIONS:\n",
    "            for INITIALIZATION_P in INITIALIZATIONS:\n",
    "                for ACTIVATION_V in ACTIVATIONS:\n",
    "                    for ACTIVATION_P in ACTIVATIONS:\n",
    "                        # Initialize models\n",
    "                        try: model_v, model_p = _create_network('value'), _create_network('policy') \n",
    "                        except Exception: raise\n",
    "                        \n",
    "                        # Create model id\n",
    "                        EPOCH = '_'.join([repr(STEP_MEM), str(NUM_HIDDEN_NEURON), INITIALIZATION_V, INITIALIZATION_P, ACTIVATION_V, ACTIVATION_P])\n",
    "                                     \n",
    "                        # Train model / Play epoch\n",
    "                        stats = advantage_actor_critic(model_v, model_p) \n",
    "\n",
    "                        # Calculate cumulative epoch statistics\n",
    "                        highest_reward = max([ v[0] for v in stats.values() ])\n",
    "                        success_episodes = sum([ v[1] for v in stats.values() ])\n",
    "                        solved_episodes = sum([ v[2] for v in stats.values() ])\n",
    "                                \n",
    "                        # Visualize\n",
    "                        stdout.write(\"\\rEpoch {}, Maximum Reward {}, Successful Episodes {}, Solved Episodes {}\".format(\\\n",
    "                            EPOCH, highest_reward, success_episodes, solved_episodes))\n",
    "                        \n",
    "                        # Memorize\n",
    "                        if success_episodes > 0: \n",
    "                            epoch_account[EPOCH] = [highest_reward, success_episodes, solved_episodes]\n",
    "                            with open(path.join(SAVE_PATH, \"AAC_Stats.json\"), \"a\") as outfile: json.dump(epoch_account, outfile) \n",
    "            \n",
    "            '''"
   ]
  },
  {
   "cell_type": "markdown",
   "metadata": {},
   "source": [
    "TODO Cannot be tested on Win server, since TensorFlow presently cannot be run on Windows."
   ]
  },
  {
   "cell_type": "markdown",
   "metadata": {},
   "source": [
    "## Plot Learning Progress"
   ]
  },
  {
   "cell_type": "code",
   "execution_count": null,
   "metadata": {
    "collapsed": false
   },
   "outputs": [],
   "source": [
    "episodes = [v+1 for v in range(NUM_EPISODE)]\n",
    "titles = ['Sum Reward', 'Steps', '# Successes', '# Solved']\n",
    "fontsize = 14\n",
    "\n",
    "from os import listdir\n",
    "file_count = 0\n",
    "for file in listdir(SAVE_PATH):\n",
    "    if \"AAC_Stats\" in file: # only AAC ###TODO\n",
    "        file_count += 1\n",
    "        json_data = open(path.join(SAVE_PATH, file))\n",
    "        data = json.load(json_data)\n",
    "        \n",
    "        plt.figure(file_count, figsize=(18,6), dpi=320)\n",
    "        for i in range(len(titles)):\n",
    "            plt.subplot(2,2,i+1)\n",
    "            plt.plot(episodes, [ v[i] for v in chain.from_iterable([v.values() for v in data.values()]) ], color='blue')\n",
    "            plt.xlabel(\"Episodes\", fontsize=fontsize)\n",
    "            plt.ylabel(\"AAC: \"+titles[i], fontsize=fontsize)"
   ]
  }
 ],
 "metadata": {
  "anaconda-cloud": {},
  "celltoolbar": "Raw Cell Format",
  "kernelspec": {
   "display_name": "Python 2",
   "language": "python",
   "name": "python2"
  },
  "language_info": {
   "codemirror_mode": {
    "name": "ipython",
    "version": 2
   },
   "file_extension": ".py",
   "mimetype": "text/x-python",
   "name": "python",
   "nbconvert_exporter": "python",
   "pygments_lexer": "ipython2",
   "version": "2.7.12"
  }
 },
 "nbformat": 4,
 "nbformat_minor": 0
}

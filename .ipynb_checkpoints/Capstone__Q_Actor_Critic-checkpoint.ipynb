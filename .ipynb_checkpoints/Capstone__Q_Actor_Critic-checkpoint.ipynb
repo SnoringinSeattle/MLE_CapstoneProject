{
 "cells": [
  {
   "cell_type": "markdown",
   "metadata": {},
   "source": [
    "# Reinforcement Learning Part 2: Policy Gradients"
   ]
  },
  {
   "cell_type": "markdown",
   "metadata": {},
   "source": [
    "## Actor-Critic Policy Gradients"
   ]
  },
  {
   "cell_type": "code",
   "execution_count": 1,
   "metadata": {
    "collapsed": false
   },
   "outputs": [
    {
     "name": "stderr",
     "output_type": "stream",
     "text": [
      "Using TensorFlow backend.\n"
     ]
    }
   ],
   "source": [
    "%matplotlib inline\n",
    "\n",
    "import numpy as np\n",
    "import gym\n",
    "from keras.engine import training\n",
    "from keras.models import Sequential\n",
    "from keras.models import model_from_json\n",
    "from keras.layers import Dense, Activation\n",
    "import tensorflow as tf\n",
    "from sys import stdout\n",
    "from os import path, makedirs\n",
    "import json\n",
    "from itertools import count\n",
    "import matplotlib.pyplot as plt"
   ]
  },
  {
   "cell_type": "code",
   "execution_count": 2,
   "metadata": {
    "collapsed": true
   },
   "outputs": [],
   "source": [
    "np.random.seed(0)"
   ]
  },
  {
   "cell_type": "code",
   "execution_count": 3,
   "metadata": {
    "collapsed": false
   },
   "outputs": [
    {
     "name": "stderr",
     "output_type": "stream",
     "text": [
      "[2016-11-10 19:59:46,702] Making new env: LunarLander-v2\n"
     ]
    }
   ],
   "source": [
    "ENV = gym.make(\"LunarLander-v2\")\n",
    "NUM_INPUT = ENV.reset().shape[0]\n",
    "NUM_ACTION = ENV.action_space.n\n",
    "ACTIONS = np.arange(0, NUM_ACTION)"
   ]
  },
  {
   "cell_type": "code",
   "execution_count": 4,
   "metadata": {
    "collapsed": false
   },
   "outputs": [],
   "source": [
    "NUM_EPISODE = 50\n",
    " \n",
    "STEP_MEM_RANGE = np.arange(5, 6) # Constant over one epoch\n",
    "NUM_HIDDEN_NEURON_RANGE = [256] # Constant over one epoch\n",
    "INITIALIZATIONS = ['lecun_uniform', 'normal', 'identity', 'orthogonal', 'zero', 'glorot_normal', 'glorot_uniform', 'he_normal', 'he_uniform'] # Constant over one epoch\n",
    "# 'uniform', \n",
    "ACTIVATIONS1 = ['softplus']#['softplus', 'softsign', 'relu', 'tanh', 'sigmoid', 'hard_sigmoid', 'linear'] # Constant over one epoch\n",
    "ACTIVATIONS2 = ['relu']\n",
    "GAMMA = 0.99\n",
    " \n",
    "SAVE_PATH = path.join(path.expanduser(\"~\"), \"RL_Saves\")\n",
    "try:\n",
    "    makedirs(SAVE_PATH)\n",
    "except OSError:\n",
    "    if not path.isdir(SAVE_PATH):\n",
    "        raise"
   ]
  },
  {
   "cell_type": "code",
   "execution_count": 5,
   "metadata": {
    "collapsed": true
   },
   "outputs": [],
   "source": [
    "def _create_network(model_type): \n",
    "    model = Sequential()\n",
    "    \n",
    "    if model_type == 'value':\n",
    "        # Regression function estimate for calculating the advantage\n",
    "        model.add(Dense(NUM_HIDDEN_NEURON, init=INITIALIZATION_V, input_dim=STEP_MEM*NUM_INPUT)) \n",
    "        model.add(Activation(ACTIVATION_V))\n",
    "        model.add(Dense(1, init=INITIALIZATION_V))\n",
    "        model.compile(optimizer='rmsprop', loss='mse')\n",
    "    \n",
    "    if model_type == 'policy':\n",
    "        model.add(Dense(NUM_HIDDEN_NEURON, init=INITIALIZATION_P, input_dim=STEP_MEM*NUM_INPUT)) \n",
    "        model.add(Activation(ACTIVATION_P))\n",
    "        model.add(Dense(NUM_ACTION, init=INITIALIZATION_P))\n",
    "        model.add(Activation('softmax'))\n",
    "        model.compile(optimizer='rmsprop', loss='categorical_crossentropy', metrics=['accuracy'])\n",
    "    \n",
    "    return model"
   ]
  },
  {
   "cell_type": "code",
   "execution_count": 6,
   "metadata": {
    "collapsed": true
   },
   "outputs": [],
   "source": [
    "def get_trainable_params(model):\n",
    "    params = []\n",
    "    for layer in model.layers:\n",
    "        params += training.collect_trainable_weights(layer)\n",
    "    return params"
   ]
  },
  {
   "cell_type": "code",
   "execution_count": null,
   "metadata": {
    "collapsed": true
   },
   "outputs": [],
   "source": [
    "def q_actor_critic(model_v, model_p, render=False): \n",
    "    # Init epoch stats\n",
    "    stats = {}\n",
    "\n",
    "    # Play through episodes\n",
    "    for episode in range(NUM_EPISODE): \n",
    "        # Init episode stats\n",
    "        stats[episode] = [0]*3\n",
    "        \n",
    "        # Init observations\n",
    "        x_t = ENV.reset()\n",
    "        s_t = np.tile(x_t, STEP_MEM)\n",
    "        done = False\n",
    "        \n",
    "        # Start an episode\n",
    "        for step in count():\n",
    "            \n",
    "            # Reset the environment for a new gaming step\n",
    "            if render: ENV.render()\n",
    "\n",
    "            # Estimate probabilities for each possible action\n",
    "            probs = model_p.predict(s_t[np.newaxis])[0]\n",
    "            \n",
    "            # Take an action: Sample an action from the returned probabilities distribution\n",
    "            a_t = np.random.choice(ACTIONS, p=probs)\n",
    "\n",
    "            # Observe after action a_t\n",
    "            x_t, r_t, done, info = ENV.step(a_t)\n",
    "            \n",
    "            # Create state at t1: Append x observations, throw away the earliest\n",
    "            s_t1 = np.concatenate((x_t, s_t[:(STEP_MEM-1) * NUM_INPUT,]), axis=0)\n",
    "\n",
    "            # Calculate target for action taken\n",
    "            # -> Reward for action taken at s_t1\n",
    "            Q_sa = model_v.predict(s_t1[np.newaxis])[0][0]\n",
    "            target = r_t + GAMMA * Q_sa # if not done else r_t ###TODO reinnehmen?\n",
    "\n",
    "            # Update value estimator\n",
    "            model_v.fit(s_t[np.newaxis], np.asarray([target]), verbose=0)\n",
    "\n",
    "            # Estimate baseline for action taken\n",
    "            baseline = model_v.predict(s_t[np.newaxis])[0][0]\n",
    "\n",
    "            # Calculate advantage for action taken\n",
    "            advantage = target - baseline\n",
    "\n",
    "            # Caluculate loss\n",
    "            loss = -np.log(probs[a_t]) * advantage\n",
    "\n",
    "            # Update policy estimator\n",
    "            network_params = get_trainable_params(model_p)\n",
    "            param_grad = tf.gradients(loss, network_params)\n",
    "            \n",
    "            # Update statistics: Sum up rewards, count steps, successes, solved\n",
    "            stats[episode][0] += r_t\n",
    "            if r_t >= 100: stats[episode][1] += 1\n",
    "            if r_t >= 200: stats[episode][2] += 1\n",
    "\n",
    "            # Visualize\n",
    "            stdout.write(\"\\r{} | Step {} @ Episode {}/{}\".format(\\\n",
    "                EPOCH, step, episode, NUM_EPISODE))\n",
    "\n",
    "            # Exit episode after crash or deadlock\n",
    "            if done or step > 10000: break \n",
    "\n",
    "            # Update state\n",
    "            s_t = s_t1\n",
    "            \n",
    "    return stats"
   ]
  },
  {
   "cell_type": "code",
   "execution_count": null,
   "metadata": {
    "collapsed": false
   },
   "outputs": [
    {
     "name": "stdout",
     "output_type": "stream",
     "text": [
      "5_256_lecun_uniform_lecun_uniform_softplus_relu | Step 72 @ Episode 9/50"
     ]
    }
   ],
   "source": [
    "# Init epoch overview\n",
    "epoch_account = {}\n",
    "\n",
    "# Apply brute force\n",
    "for STEP_MEM in STEP_MEM_RANGE:\n",
    "    for NUM_HIDDEN_NEURON in NUM_HIDDEN_NEURON_RANGE:\n",
    "        for INITIALIZATION_V in INITIALIZATIONS:\n",
    "            for INITIALIZATION_P in INITIALIZATIONS:\n",
    "                for ACTIVATION_V in ACTIVATIONS1:\n",
    "                    for ACTIVATION_P in ACTIVATIONS2:\n",
    "                        # Initialize models\n",
    "                        try: model_v, model_p = _create_network('value'), _create_network('policy') \n",
    "                        except Exception: continue\n",
    "                        \n",
    "                        # Create model id\n",
    "                        EPOCH = '_'.join([repr(STEP_MEM), str(NUM_HIDDEN_NEURON), INITIALIZATION_V, INITIALIZATION_P, ACTIVATION_V, ACTIVATION_P])\n",
    "\n",
    "                        # Train model / Play epoch\n",
    "                        stats = q_actor_critic(model_v, model_p) \n",
    "\n",
    "                        # Calculate cumulative epoch statistics\n",
    "                        highest_reward = max([ v[0] for v in stats.values() ])\n",
    "                        success_episodes = sum([ v[1] for v in stats.values() ])\n",
    "                        solved_episodes = sum([ v[2] for v in stats.values() ])\n",
    "                                \n",
    "                        # Visualize\n",
    "                        stdout.write(\"\\rEpoch {}, Maximum Reward {}, Successful Episodes {}, Solved Episodes {}\".format(\\\n",
    "                            EPOCH, highest_reward, success_episodes, solved_episodes))\n",
    "\n",
    "                        # Memorize\n",
    "                        if success_episodes > 0: \n",
    "                            epoch_account[EPOCH] = [highest_reward, success_episodes, solved_episodes]\n",
    "                            with open(path.join(SAVE_PATH, \"QAC_Stats.json\"), \"a\") as outfile: json.dump(epoch_account, outfile)"
   ]
  }
 ],
 "metadata": {
  "kernelspec": {
   "display_name": "Python 2",
   "language": "python",
   "name": "python2"
  },
  "language_info": {
   "codemirror_mode": {
    "name": "ipython",
    "version": 2
   },
   "file_extension": ".py",
   "mimetype": "text/x-python",
   "name": "python",
   "nbconvert_exporter": "python",
   "pygments_lexer": "ipython2",
   "version": "2.7.12"
  }
 },
 "nbformat": 4,
 "nbformat_minor": 1
}
